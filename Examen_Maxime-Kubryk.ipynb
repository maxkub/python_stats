{
 "cells": [
  {
   "cell_type": "markdown",
   "metadata": {},
   "source": [
    "# EXAMEN Stats"
   ]
  },
  {
   "cell_type": "code",
   "execution_count": 1,
   "metadata": {
    "collapsed": true
   },
   "outputs": [],
   "source": [
    "from sklearn.linear_model import LinearRegression\n",
    "from sklearn import preprocessing \n",
    "from sklearn.linear_model import LassoCV, Lasso ,LinearRegression, LogisticRegressionCV\n",
    "from sklearn.grid_search import GridSearchCV\n",
    "from sklearn.utils import resample\n",
    "from sklearn.metrics import mean_squared_error, average_precision_score, f1_score\n",
    "import numpy as np\n",
    "from sklearn.decomposition import PCA\n",
    "import pandas as pd\n",
    "import matplotlib.pyplot as plt\n",
    "from mpl_toolkits.mplot3d import Axes3D\n",
    "from sklearn.cross_validation import train_test_split\n",
    "\n",
    "%matplotlib inline"
   ]
  },
  {
   "cell_type": "markdown",
   "metadata": {},
   "source": [
    "## Exercice 1"
   ]
  },
  {
   "cell_type": "markdown",
   "metadata": {},
   "source": [
    "On sait que $\\hat{g}=\\frac{1}{n-1}\\sum_1^n(X_i-\\bar{X_n})^2=\\sigma^2$ est un estimateur sans biais de la variance. On peut donc réécrire $\\hat{V}_{\\alpha}$ :\n",
    "$$\n",
    "\\begin{align}\n",
    "\\hat{V}_{\\alpha} &=(n-1)\\alpha\\frac{1}{n-1}\\sum_1^n(X_i-\\bar{X_n})^2 \\\\\n",
    "\\Longrightarrow E(\\hat{V}_{\\alpha}) &= (n-1)\\alpha\\sigma^2\n",
    "\\end{align}\n",
    "$$\n",
    "Le biais s'écrit alors\n",
    "$$E(\\hat{V}_{\\alpha})-\\sigma^2=\\sigma^2\\left[(n-1)\\alpha-1\\right]\\neq 0$$\n",
    "Cet estimateur est donc biaisé.\n",
    "\n",
    "Calcul du risque quadratique moyen :\n",
    "$$\\begin{align}E(\\hat{V}_{\\alpha}-\\sigma^2)^2 &= Var(\\hat{V}_{\\alpha})+Biais(\\hat{V}_{\\alpha}) \\\\\n",
    "&= 2\\sigma^4(n-1)\\alpha^2+\\sigma^4((n-1)\\alpha-1) \\\\\n",
    "&= \\sigma^4 \\left[\\alpha^2\\left(2(n-1)+(n-1)^2\\right)-2\\alpha(n-1)+1 \\right] \\\\\n",
    "&= \\sigma^4f(\\alpha)\n",
    "\\end{align}$$\n",
    "\n",
    "\n",
    "On cherche $\\alpha_0$ minimisant le risque et donc la fonction $f(\\alpha)$. La dérivée seconde de $f$ étant positive, on a $f$ convexe. Alors si on trouve un extremum c'est un minimum de la fonction.\n",
    "\n",
    "$$\n",
    "\\frac{\\mathrm{d}f}{\\mathrm{d}\\theta} = 2\\alpha_0(2(n-1)+(n-1)^2)-2(n-1) = 0\n",
    "$$\n",
    "\n",
    "D'où :\n",
    "$$\n",
    "\\begin{align}\n",
    "\\alpha_0 &= \\frac{n-1}{2(n-1)+(n-1)^2} \\\\\n",
    "&= \\frac{1}{n+1}\n",
    "\\end{align}\n",
    "$$\n",
    "\n",
    "\n",
    "Le risque minimal est donc atteint pour $\\alpha_0=\\frac{1}{n+1}$."
   ]
  },
  {
   "cell_type": "markdown",
   "metadata": {},
   "source": [
    "## Exercice 2"
   ]
  },
  {
   "cell_type": "code",
   "execution_count": 54,
   "metadata": {
    "collapsed": true
   },
   "outputs": [],
   "source": [
    "# à mettre sur True pour la question 11\n",
    "fit_intercept = False"
   ]
  },
  {
   "cell_type": "markdown",
   "metadata": {},
   "source": [
    "#### Q1"
   ]
  },
  {
   "cell_type": "code",
   "execution_count": 55,
   "metadata": {
    "collapsed": false
   },
   "outputs": [
    {
     "name": "stdout",
     "output_type": "stream",
     "text": [
      "       0         1         2         3         4         5         6     \\\n",
      "0 -1.462360 -0.645135 -0.835925 -1.470420 -0.919971 -1.584260  0.712393   \n",
      "1 -0.664799  0.206146 -0.368575  0.258225 -0.475673 -0.354967 -1.119370   \n",
      "2 -0.200487  0.379941 -2.382780  0.439604 -1.226960 -1.762190  0.104636   \n",
      "3 -0.257755  0.279937  1.839170 -1.629500 -1.287480 -1.265130  0.763342   \n",
      "4 -0.564569 -0.395885 -0.983716 -0.837410 -0.414772  0.148339 -0.035498   \n",
      "\n",
      "       7         8         9       ...         7119      7120      7121  \\\n",
      "0 -0.542291  1.050910  0.236488    ...    -0.484449 -0.671805 -1.809170   \n",
      "1 -0.292513 -0.375421 -0.387603    ...    -0.722190  0.352834 -0.804439   \n",
      "2 -1.807490  0.492918 -1.670010    ...     0.690042  1.596130 -0.203062   \n",
      "3 -0.616454 -0.315784 -0.321929    ...     0.688649  0.707999  2.156090   \n",
      "4 -0.100216 -0.757526  0.370683    ...    -0.950918 -0.280190 -0.075149   \n",
      "\n",
      "       7122      7123      7124      7125      7126      7127      7128  \n",
      "0 -0.097850 -0.913618  0.013598 -0.101356 -0.596842 -0.471106 -0.959575  \n",
      "1 -0.030245 -0.536629 -0.157103 -0.373182 -0.865241 -0.664888 -0.543433  \n",
      "2 -0.729689  0.223522  0.643235  1.980860 -0.496304 -0.433475 -0.896774  \n",
      "3 -0.538209 -1.035460 -0.306303 -0.668827 -0.970937 -0.486956 -0.846979  \n",
      "4  0.135150 -0.837807 -1.405510 -0.296516 -1.037390 -0.717851 -0.870765  \n",
      "\n",
      "[5 rows x 7129 columns]\n",
      "(72, 7129)\n",
      "(72,)\n"
     ]
    }
   ],
   "source": [
    "from sklearn.datasets.mldata import fetch_mldata\n",
    "dataset_name = 'leukemia'\n",
    "data = fetch_mldata(dataset_name)\n",
    "X = data.data\n",
    "y = data.target\n",
    "X = X.astype(float)\n",
    "y = y.astype(float)\n",
    "\n",
    "Xdf = pd.DataFrame(data.data)\n",
    "print(Xdf.head())\n",
    "\n",
    "print(np.shape(X))\n",
    "print(np.shape(y))"
   ]
  },
  {
   "cell_type": "markdown",
   "metadata": {},
   "source": [
    "===> Il y a donc 7129 variables axplicatives."
   ]
  },
  {
   "cell_type": "code",
   "execution_count": 56,
   "metadata": {
    "collapsed": false
   },
   "outputs": [
    {
     "name": "stdout",
     "output_type": "stream",
     "text": [
      "mean 2.77777777909e-08\n",
      "std 0.986109805726\n",
      "mean 2.79727304406e-08\n",
      "std 1.0\n"
     ]
    }
   ],
   "source": [
    "print(\"mean\", np.mean(X[:,10]))\n",
    "print(\"std\", np.var(X[:,10]))\n",
    "\n",
    "# avec la methode StandardScaler de scikit-learn,\n",
    "# on centre et réduit la matrice X : \n",
    "scaler = preprocessing.StandardScaler(with_mean=False).fit(X)\n",
    "X = scaler.transform(X)\n",
    "\n",
    "print(\"mean\", np.mean(X[:,10]))\n",
    "print(\"std\", np.var(X[:,10]))"
   ]
  },
  {
   "cell_type": "markdown",
   "metadata": {},
   "source": [
    "#### Q2"
   ]
  },
  {
   "cell_type": "code",
   "execution_count": 57,
   "metadata": {
    "collapsed": false
   },
   "outputs": [
    {
     "name": "stdout",
     "output_type": "stream",
     "text": [
      "72\n"
     ]
    },
    {
     "data": {
      "text/plain": [
       "<matplotlib.collections.PathCollection at 0x7feb7ee0d048>"
      ]
     },
     "execution_count": 57,
     "metadata": {},
     "output_type": "execute_result"
    },
    {
     "data": {
      "image/png": "[encoded data removed]",
      "text/plain": [
       "<matplotlib.figure.Figure at 0x7feb7e76a0b8>"
      ]
     },
     "metadata": {},
     "output_type": "display_data"
    }
   ],
   "source": [
    "# On fait une pca pour trouver la direction principale à 1D\n",
    "pca = PCA(n_components=1)\n",
    "pca.fit(X)\n",
    "X_pca = pca.transform(X)\n",
    "\n",
    "print(len(X_pca))\n",
    "\n",
    "plt.figure()\n",
    "plt.title('PCA - 1 dimension')\n",
    "plt.ylabel('y')\n",
    "plt.xlabel('first principal component')\n",
    "plt.scatter(X_pca,y)"
   ]
  },
  {
   "cell_type": "code",
   "execution_count": 58,
   "metadata": {
    "collapsed": false
   },
   "outputs": [
    {
     "name": "stdout",
     "output_type": "stream",
     "text": [
      "(72, 2)\n"
     ]
    },
    {
     "data": {
      "text/plain": [
       "<matplotlib.collections.PathCollection at 0x7feb7ed6d7f0>"
      ]
     },
     "execution_count": 58,
     "metadata": {},
     "output_type": "execute_result"
    },
    {
     "data": {
      "image/png": "[encoded data removed]",
      "text/plain": [
       "<matplotlib.figure.Figure at 0x7feb7eddeb00>"
      ]
     },
     "metadata": {},
     "output_type": "display_data"
    }
   ],
   "source": [
    "# On fait une pca pour trouver la direction principale à 2D\n",
    "pca = PCA(n_components=2)\n",
    "pca.fit(X)\n",
    "\n",
    "X_pca = pca.transform(X)\n",
    "\n",
    "print(np.shape(X_pca))\n",
    "\n",
    "\n",
    "#fig = plt.figure(1, figsize=(4, 3))\n",
    "#plt.clf()\n",
    "#ax = Axes3D(fig, rect=[0, 0, .95, 1], elev=48, azim=134)\n",
    "\n",
    "plt.figure()\n",
    "plt.title('PCA - 2 dimensions')\n",
    "plt.ylabel('second component')\n",
    "plt.xlabel('first component')\n",
    "plt.scatter(X_pca[:, 0], X_pca[:, 1], c=y, cmap=plt.cm.spectral)\n",
    "\n"
   ]
  },
  {
   "cell_type": "markdown",
   "metadata": {},
   "source": [
    "#### Q3"
   ]
  },
  {
   "cell_type": "code",
   "execution_count": 59,
   "metadata": {
    "collapsed": false
   },
   "outputs": [
    {
     "name": "stdout",
     "output_type": "stream",
     "text": [
      "(57, 7129) (15, 7129)\n"
     ]
    }
   ],
   "source": [
    "X_train, X_test, y_train, y_test = train_test_split(X, y, test_size=0.2, random_state=42)\n",
    "print(np.shape(X_train), np.shape(X_test))"
   ]
  },
  {
   "cell_type": "markdown",
   "metadata": {},
   "source": [
    "#### Q4"
   ]
  },
  {
   "cell_type": "markdown",
   "metadata": {},
   "source": [
    "La nouvelle fonction à minimiser est $g(\\theta)=\\frac{1}{2n}\\left|y-X\\theta\\right|_2^2+\\lambda'\\left|\\theta\\right|_1 = \\frac{1}{n}\\left(\\frac{1}{2}\\left|y-X\\theta\\right|_2^2+n\\lambda'\\left|\\theta\\right|_1\\right)$\n",
    "\n",
    "Le facteur $\\frac{1}{n}$ dans cette expression ne change rien au résultat du minimum, par conséquent pour avoir $\\hat{\\theta}^{Lasso}_{\\lambda}=\\hat{\\theta}^{Lasso pack}_{\\lambda'}$ il faut\n",
    "$$ \\lambda' = \\frac{\\lambda}{n}$$"
   ]
  },
  {
   "cell_type": "markdown",
   "metadata": {},
   "source": [
    "#### Q5"
   ]
  },
  {
   "cell_type": "code",
   "execution_count": 60,
   "metadata": {
    "collapsed": false
   },
   "outputs": [
    {
     "name": "stdout",
     "output_type": "stream",
     "text": [
      "Erreur quadratique: 0.279982251825\n"
     ]
    },
    {
     "name": "stderr",
     "output_type": "stream",
     "text": [
      "/home/maxime/anaconda3/lib/python3.4/site-packages/sklearn/linear_model/coordinate_descent.py:444: ConvergenceWarning: Objective did not converge. You might want to increase the number of iterations\n",
      "  ConvergenceWarning)\n"
     ]
    }
   ],
   "source": [
    "lassocv = LassoCV(n_alphas = 17, fit_intercept=fit_intercept)\n",
    "\n",
    "# entraînement du modèle sur les données d'entraînement :\n",
    "lassocv.fit(X_train, y_train) \n",
    "\n",
    "# predictions du modèle sur les données de validation :\n",
    "y_pred = lassocv.predict(X_test)\n",
    "\n",
    "# Erreur quadratique sur les données de validation :\n",
    "Error2 = np.dot(y_pred.T, y_test)\n",
    "Error2 = mean_squared_error(y_pred, y_test)\n",
    "print(\"Erreur quadratique:\", Error2)"
   ]
  },
  {
   "cell_type": "markdown",
   "metadata": {},
   "source": [
    "#### Q6"
   ]
  },
  {
   "cell_type": "code",
   "execution_count": 61,
   "metadata": {
    "collapsed": false
   },
   "outputs": [],
   "source": [
    "class Thres_lasso(Lasso):\n",
    "    \n",
    "    def __init__(self, alpha=1.0, thres=0.01, eps_machine=1e-12,\n",
    "                 max_iter=10000, tol=1e-7, fit_intercept=False):\n",
    "        \n",
    "        self.alpha = alpha\n",
    "        self.max_iter = max_iter\n",
    "        self.eps_machine = eps_machine\n",
    "        self.tol = tol\n",
    "        self.fit_intercept = fit_intercept\n",
    "        self.thres = thres\n",
    "        \n",
    "    def fit(self, X, y):\n",
    "        lasso = Lasso(alpha = self.alpha)\n",
    "        lasso.fit(X_train, y_train) \n",
    "        theta = lasso.coef_\n",
    "    \n",
    "        self.support_ = [i for i in range(len(theta)) if theta[i]>self.thres]\n",
    "        \n",
    "        if len(self.support_) > 0:\n",
    "            X_red = X[:,self.support_]\n",
    "            ols = LinearRegression(fit_intercept=self.fit_intercept)\n",
    "            ols.fit(X_red, y)\n",
    "            self.coef_ = ols.coef_\n",
    "            self.intercept_ = ols.intercept_\n",
    "        else:\n",
    "            self.coef_ = np.zeros(np.shape(X)[1])\n",
    "            self.intercept_ = 0\n",
    "            \n",
    "        return self\n",
    "    \n",
    "    def predict(self, X):\n",
    "        if len(self.support_) > 0:\n",
    "            X_red = X[:, self.support_]\n",
    "            y = np.dot(X_red, self.coef_)\n",
    "        else:\n",
    "            y = np.zeros(len(X))\n",
    "            \n",
    "        return y\n",
    "    "
   ]
  },
  {
   "cell_type": "code",
   "execution_count": 62,
   "metadata": {
    "collapsed": false
   },
   "outputs": [
    {
     "name": "stdout",
     "output_type": "stream",
     "text": [
      "[ 0.53744726]\n",
      "[634]\n",
      "[ 0.20510456 -0.38850572  0.02284809 -0.2317677  -0.37346362 -0.40078813\n",
      "  0.23551726 -0.03514404  1.66265628 -0.41862021  1.76115808  0.06403754\n",
      " -0.43507812  0.19519106 -0.3878687 ]\n"
     ]
    },
    {
     "name": "stderr",
     "output_type": "stream",
     "text": [
      "/home/maxime/anaconda3/lib/python3.4/site-packages/sklearn/linear_model/coordinate_descent.py:444: ConvergenceWarning: Objective did not converge. You might want to increase the number of iterations\n",
      "  ConvergenceWarning)\n"
     ]
    }
   ],
   "source": [
    "thres_l = Thres_lasso(thres=0.1, alpha=0.001, fit_intercept=fit_intercept)\n",
    "thres_l.fit(X_train, y_train)\n",
    "print(thres_l.coef_)\n",
    "print(thres_l.support_)\n",
    "print(thres_l.predict(X_test))"
   ]
  },
  {
   "cell_type": "markdown",
   "metadata": {},
   "source": [
    "#### Q7"
   ]
  },
  {
   "cell_type": "markdown",
   "metadata": {},
   "source": [
    "En utilisant le Lasso, on selectionne les variables explicatives les plus pertinentes, et on peut se ramener à un cas où $n>p$ (ici on voudrait $p<72$). On peut alors utiliser les expressions suivantes pour estimer le niveau de bruit :\n",
    "$$\\hat{\\sigma}^2=\\frac{1}{n}\\left|y-X\\hat{\\theta}\\right|_2^2$$\n",
    "ou bien\n",
    "$$\\hat{\\sigma}^2=\\frac{1}{n-rang(X)}\\left|y-X\\hat{\\theta}\\right|_2^2$$ \n",
    "\n",
    "Le premier étant biaisé, mais pas le second."
   ]
  },
  {
   "cell_type": "code",
   "execution_count": 63,
   "metadata": {
    "collapsed": true
   },
   "outputs": [],
   "source": [
    "# estimateur biaisé\n",
    "def sigma1(y_, y):\n",
    "    v = y_ - y\n",
    "    sig = np.dot(v.T, v) * 1/float(len(y))\n",
    "    return sig\n",
    "\n",
    "# estimateur sans biais\n",
    "def sigma2(y_, y, X):\n",
    "    v = y_ - y\n",
    "    rang = np.linalg.matrix_rank(X)\n",
    "    print(rang)\n",
    "    sig = np.dot(v.T, v) * 1/float(len(y) - rang)\n",
    "    return sig"
   ]
  },
  {
   "cell_type": "code",
   "execution_count": 64,
   "metadata": {
    "collapsed": false
   },
   "outputs": [
    {
     "name": "stdout",
     "output_type": "stream",
     "text": [
      "0.279982251825\n"
     ]
    }
   ],
   "source": [
    "print(sigma1(y_test, y_pred))"
   ]
  },
  {
   "cell_type": "markdown",
   "metadata": {},
   "source": [
    "#### Q8"
   ]
  },
  {
   "cell_type": "code",
   "execution_count": 65,
   "metadata": {
    "collapsed": false
   },
   "outputs": [
    {
     "name": "stdout",
     "output_type": "stream",
     "text": [
      "[  1.00000000e-07   4.64158883e-07   2.15443469e-06   1.00000000e-05\n",
      "   4.64158883e-05   2.15443469e-04   1.00000000e-03   4.64158883e-03\n",
      "   2.15443469e-02   1.00000000e-01]\n",
      "[  1.00000000e-07   3.16227766e-06   1.00000000e-04   3.16227766e-03\n",
      "   1.00000000e-01]\n"
     ]
    }
   ],
   "source": [
    "# definition de la grille à explorer:\n",
    "alphas = np.logspace(-7, -1, 10)\n",
    "thresholds = np.logspace(-7, -1, 5)\n",
    "print(alphas)\n",
    "print(thresholds)"
   ]
  },
  {
   "cell_type": "code",
   "execution_count": 66,
   "metadata": {
    "collapsed": false
   },
   "outputs": [
    {
     "name": "stderr",
     "output_type": "stream",
     "text": [
      "/home/maxime/anaconda3/lib/python3.4/site-packages/sklearn/linear_model/coordinate_descent.py:444: ConvergenceWarning: Objective did not converge. You might want to increase the number of iterations\n",
      "  ConvergenceWarning)\n",
      "/home/maxime/anaconda3/lib/python3.4/site-packages/sklearn/linear_model/coordinate_descent.py:444: ConvergenceWarning: Objective did not converge. You might want to increase the number of iterations\n",
      "  ConvergenceWarning)\n",
      "/home/maxime/anaconda3/lib/python3.4/site-packages/sklearn/linear_model/coordinate_descent.py:444: ConvergenceWarning: Objective did not converge. You might want to increase the number of iterations\n",
      "  ConvergenceWarning)\n",
      "/home/maxime/anaconda3/lib/python3.4/site-packages/sklearn/linear_model/coordinate_descent.py:444: ConvergenceWarning: Objective did not converge. You might want to increase the number of iterations\n",
      "  ConvergenceWarning)\n",
      "/home/maxime/anaconda3/lib/python3.4/site-packages/sklearn/linear_model/coordinate_descent.py:444: ConvergenceWarning: Objective did not converge. You might want to increase the number of iterations\n",
      "  ConvergenceWarning)\n",
      "/home/maxime/anaconda3/lib/python3.4/site-packages/sklearn/linear_model/coordinate_descent.py:444: ConvergenceWarning: Objective did not converge. You might want to increase the number of iterations\n",
      "  ConvergenceWarning)\n",
      "/home/maxime/anaconda3/lib/python3.4/site-packages/sklearn/linear_model/coordinate_descent.py:444: ConvergenceWarning: Objective did not converge. You might want to increase the number of iterations\n",
      "  ConvergenceWarning)\n",
      "/home/maxime/anaconda3/lib/python3.4/site-packages/sklearn/linear_model/coordinate_descent.py:444: ConvergenceWarning: Objective did not converge. You might want to increase the number of iterations\n",
      "  ConvergenceWarning)\n",
      "/home/maxime/anaconda3/lib/python3.4/site-packages/sklearn/linear_model/coordinate_descent.py:444: ConvergenceWarning: Objective did not converge. You might want to increase the number of iterations\n",
      "  ConvergenceWarning)\n",
      "/home/maxime/anaconda3/lib/python3.4/site-packages/sklearn/linear_model/coordinate_descent.py:444: ConvergenceWarning: Objective did not converge. You might want to increase the number of iterations\n",
      "  ConvergenceWarning)\n",
      "/home/maxime/anaconda3/lib/python3.4/site-packages/sklearn/linear_model/coordinate_descent.py:444: ConvergenceWarning: Objective did not converge. You might want to increase the number of iterations\n",
      "  ConvergenceWarning)\n",
      "/home/maxime/anaconda3/lib/python3.4/site-packages/sklearn/linear_model/coordinate_descent.py:444: ConvergenceWarning: Objective did not converge. You might want to increase the number of iterations\n",
      "  ConvergenceWarning)\n",
      "/home/maxime/anaconda3/lib/python3.4/site-packages/sklearn/linear_model/coordinate_descent.py:444: ConvergenceWarning: Objective did not converge. You might want to increase the number of iterations\n",
      "  ConvergenceWarning)\n",
      "/home/maxime/anaconda3/lib/python3.4/site-packages/sklearn/linear_model/coordinate_descent.py:444: ConvergenceWarning: Objective did not converge. You might want to increase the number of iterations\n",
      "  ConvergenceWarning)\n",
      "/home/maxime/anaconda3/lib/python3.4/site-packages/sklearn/linear_model/coordinate_descent.py:444: ConvergenceWarning: Objective did not converge. You might want to increase the number of iterations\n",
      "  ConvergenceWarning)\n",
      "/home/maxime/anaconda3/lib/python3.4/site-packages/sklearn/linear_model/coordinate_descent.py:444: ConvergenceWarning: Objective did not converge. You might want to increase the number of iterations\n",
      "  ConvergenceWarning)\n",
      "/home/maxime/anaconda3/lib/python3.4/site-packages/sklearn/linear_model/coordinate_descent.py:444: ConvergenceWarning: Objective did not converge. You might want to increase the number of iterations\n",
      "  ConvergenceWarning)\n",
      "/home/maxime/anaconda3/lib/python3.4/site-packages/sklearn/linear_model/coordinate_descent.py:444: ConvergenceWarning: Objective did not converge. You might want to increase the number of iterations\n",
      "  ConvergenceWarning)\n",
      "/home/maxime/anaconda3/lib/python3.4/site-packages/sklearn/linear_model/coordinate_descent.py:444: ConvergenceWarning: Objective did not converge. You might want to increase the number of iterations\n",
      "  ConvergenceWarning)\n",
      "/home/maxime/anaconda3/lib/python3.4/site-packages/sklearn/linear_model/coordinate_descent.py:444: ConvergenceWarning: Objective did not converge. You might want to increase the number of iterations\n",
      "  ConvergenceWarning)\n",
      "/home/maxime/anaconda3/lib/python3.4/site-packages/sklearn/linear_model/coordinate_descent.py:444: ConvergenceWarning: Objective did not converge. You might want to increase the number of iterations\n",
      "  ConvergenceWarning)\n",
      "/home/maxime/anaconda3/lib/python3.4/site-packages/sklearn/linear_model/coordinate_descent.py:444: ConvergenceWarning: Objective did not converge. You might want to increase the number of iterations\n",
      "  ConvergenceWarning)\n",
      "/home/maxime/anaconda3/lib/python3.4/site-packages/sklearn/linear_model/coordinate_descent.py:444: ConvergenceWarning: Objective did not converge. You might want to increase the number of iterations\n",
      "  ConvergenceWarning)\n",
      "/home/maxime/anaconda3/lib/python3.4/site-packages/sklearn/linear_model/coordinate_descent.py:444: ConvergenceWarning: Objective did not converge. You might want to increase the number of iterations\n",
      "  ConvergenceWarning)\n",
      "/home/maxime/anaconda3/lib/python3.4/site-packages/sklearn/linear_model/coordinate_descent.py:444: ConvergenceWarning: Objective did not converge. You might want to increase the number of iterations\n",
      "  ConvergenceWarning)\n",
      "/home/maxime/anaconda3/lib/python3.4/site-packages/sklearn/linear_model/coordinate_descent.py:444: ConvergenceWarning: Objective did not converge. You might want to increase the number of iterations\n",
      "  ConvergenceWarning)\n",
      "/home/maxime/anaconda3/lib/python3.4/site-packages/sklearn/linear_model/coordinate_descent.py:444: ConvergenceWarning: Objective did not converge. You might want to increase the number of iterations\n",
      "  ConvergenceWarning)\n",
      "/home/maxime/anaconda3/lib/python3.4/site-packages/sklearn/linear_model/coordinate_descent.py:444: ConvergenceWarning: Objective did not converge. You might want to increase the number of iterations\n",
      "  ConvergenceWarning)\n",
      "/home/maxime/anaconda3/lib/python3.4/site-packages/sklearn/linear_model/coordinate_descent.py:444: ConvergenceWarning: Objective did not converge. You might want to increase the number of iterations\n",
      "  ConvergenceWarning)\n",
      "/home/maxime/anaconda3/lib/python3.4/site-packages/sklearn/linear_model/coordinate_descent.py:444: ConvergenceWarning: Objective did not converge. You might want to increase the number of iterations\n",
      "  ConvergenceWarning)\n",
      "/home/maxime/anaconda3/lib/python3.4/site-packages/sklearn/linear_model/coordinate_descent.py:444: ConvergenceWarning: Objective did not converge. You might want to increase the number of iterations\n",
      "  ConvergenceWarning)\n",
      "/home/maxime/anaconda3/lib/python3.4/site-packages/sklearn/linear_model/coordinate_descent.py:444: ConvergenceWarning: Objective did not converge. You might want to increase the number of iterations\n",
      "  ConvergenceWarning)\n",
      "/home/maxime/anaconda3/lib/python3.4/site-packages/sklearn/linear_model/coordinate_descent.py:444: ConvergenceWarning: Objective did not converge. You might want to increase the number of iterations\n",
      "  ConvergenceWarning)\n",
      "/home/maxime/anaconda3/lib/python3.4/site-packages/sklearn/linear_model/coordinate_descent.py:444: ConvergenceWarning: Objective did not converge. You might want to increase the number of iterations\n",
      "  ConvergenceWarning)\n",
      "/home/maxime/anaconda3/lib/python3.4/site-packages/sklearn/linear_model/coordinate_descent.py:444: ConvergenceWarning: Objective did not converge. You might want to increase the number of iterations\n",
      "  ConvergenceWarning)\n",
      "/home/maxime/anaconda3/lib/python3.4/site-packages/sklearn/linear_model/coordinate_descent.py:444: ConvergenceWarning: Objective did not converge. You might want to increase the number of iterations\n",
      "  ConvergenceWarning)\n",
      "/home/maxime/anaconda3/lib/python3.4/site-packages/sklearn/linear_model/coordinate_descent.py:444: ConvergenceWarning: Objective did not converge. You might want to increase the number of iterations\n",
      "  ConvergenceWarning)\n",
      "/home/maxime/anaconda3/lib/python3.4/site-packages/sklearn/linear_model/coordinate_descent.py:444: ConvergenceWarning: Objective did not converge. You might want to increase the number of iterations\n",
      "  ConvergenceWarning)\n",
      "/home/maxime/anaconda3/lib/python3.4/site-packages/sklearn/linear_model/coordinate_descent.py:444: ConvergenceWarning: Objective did not converge. You might want to increase the number of iterations\n",
      "  ConvergenceWarning)\n",
      "/home/maxime/anaconda3/lib/python3.4/site-packages/sklearn/linear_model/coordinate_descent.py:444: ConvergenceWarning: Objective did not converge. You might want to increase the number of iterations\n",
      "  ConvergenceWarning)\n",
      "/home/maxime/anaconda3/lib/python3.4/site-packages/sklearn/linear_model/coordinate_descent.py:444: ConvergenceWarning: Objective did not converge. You might want to increase the number of iterations\n",
      "  ConvergenceWarning)\n",
      "/home/maxime/anaconda3/lib/python3.4/site-packages/sklearn/linear_model/coordinate_descent.py:444: ConvergenceWarning: Objective did not converge. You might want to increase the number of iterations\n",
      "  ConvergenceWarning)\n",
      "/home/maxime/anaconda3/lib/python3.4/site-packages/sklearn/linear_model/coordinate_descent.py:444: ConvergenceWarning: Objective did not converge. You might want to increase the number of iterations\n",
      "  ConvergenceWarning)\n",
      "/home/maxime/anaconda3/lib/python3.4/site-packages/sklearn/linear_model/coordinate_descent.py:444: ConvergenceWarning: Objective did not converge. You might want to increase the number of iterations\n",
      "  ConvergenceWarning)\n",
      "/home/maxime/anaconda3/lib/python3.4/site-packages/sklearn/linear_model/coordinate_descent.py:444: ConvergenceWarning: Objective did not converge. You might want to increase the number of iterations\n",
      "  ConvergenceWarning)\n",
      "/home/maxime/anaconda3/lib/python3.4/site-packages/sklearn/linear_model/coordinate_descent.py:444: ConvergenceWarning: Objective did not converge. You might want to increase the number of iterations\n",
      "  ConvergenceWarning)\n",
      "/home/maxime/anaconda3/lib/python3.4/site-packages/sklearn/linear_model/coordinate_descent.py:444: ConvergenceWarning: Objective did not converge. You might want to increase the number of iterations\n",
      "  ConvergenceWarning)\n",
      "/home/maxime/anaconda3/lib/python3.4/site-packages/sklearn/linear_model/coordinate_descent.py:444: ConvergenceWarning: Objective did not converge. You might want to increase the number of iterations\n",
      "  ConvergenceWarning)\n",
      "/home/maxime/anaconda3/lib/python3.4/site-packages/sklearn/linear_model/coordinate_descent.py:444: ConvergenceWarning: Objective did not converge. You might want to increase the number of iterations\n",
      "  ConvergenceWarning)\n",
      "/home/maxime/anaconda3/lib/python3.4/site-packages/sklearn/linear_model/coordinate_descent.py:444: ConvergenceWarning: Objective did not converge. You might want to increase the number of iterations\n",
      "  ConvergenceWarning)\n",
      "/home/maxime/anaconda3/lib/python3.4/site-packages/sklearn/linear_model/coordinate_descent.py:444: ConvergenceWarning: Objective did not converge. You might want to increase the number of iterations\n",
      "  ConvergenceWarning)\n",
      "/home/maxime/anaconda3/lib/python3.4/site-packages/sklearn/linear_model/coordinate_descent.py:444: ConvergenceWarning: Objective did not converge. You might want to increase the number of iterations\n",
      "  ConvergenceWarning)\n",
      "/home/maxime/anaconda3/lib/python3.4/site-packages/sklearn/linear_model/coordinate_descent.py:444: ConvergenceWarning: Objective did not converge. You might want to increase the number of iterations\n",
      "  ConvergenceWarning)\n",
      "/home/maxime/anaconda3/lib/python3.4/site-packages/sklearn/linear_model/coordinate_descent.py:444: ConvergenceWarning: Objective did not converge. You might want to increase the number of iterations\n",
      "  ConvergenceWarning)\n",
      "/home/maxime/anaconda3/lib/python3.4/site-packages/sklearn/linear_model/coordinate_descent.py:444: ConvergenceWarning: Objective did not converge. You might want to increase the number of iterations\n",
      "  ConvergenceWarning)\n",
      "/home/maxime/anaconda3/lib/python3.4/site-packages/sklearn/linear_model/coordinate_descent.py:444: ConvergenceWarning: Objective did not converge. You might want to increase the number of iterations\n",
      "  ConvergenceWarning)\n",
      "/home/maxime/anaconda3/lib/python3.4/site-packages/sklearn/linear_model/coordinate_descent.py:444: ConvergenceWarning: Objective did not converge. You might want to increase the number of iterations\n",
      "  ConvergenceWarning)\n",
      "/home/maxime/anaconda3/lib/python3.4/site-packages/sklearn/linear_model/coordinate_descent.py:444: ConvergenceWarning: Objective did not converge. You might want to increase the number of iterations\n",
      "  ConvergenceWarning)\n",
      "/home/maxime/anaconda3/lib/python3.4/site-packages/sklearn/linear_model/coordinate_descent.py:444: ConvergenceWarning: Objective did not converge. You might want to increase the number of iterations\n",
      "  ConvergenceWarning)\n",
      "/home/maxime/anaconda3/lib/python3.4/site-packages/sklearn/linear_model/coordinate_descent.py:444: ConvergenceWarning: Objective did not converge. You might want to increase the number of iterations\n",
      "  ConvergenceWarning)\n"
     ]
    },
    {
     "name": "stdout",
     "output_type": "stream",
     "text": [
      "[ 0.67372211 -1.47026036  0.85380862  1.34906524 -1.33748998 -1.76251625\n",
      " -0.16499418 -0.20564888  1.35304781 -0.42677073  1.62162814 -0.5599944\n",
      "  0.46479006  0.37721376  0.22183578]\n"
     ]
    },
    {
     "name": "stderr",
     "output_type": "stream",
     "text": [
      "/home/maxime/anaconda3/lib/python3.4/site-packages/sklearn/linear_model/coordinate_descent.py:444: ConvergenceWarning: Objective did not converge. You might want to increase the number of iterations\n",
      "  ConvergenceWarning)\n"
     ]
    }
   ],
   "source": [
    "# definition de l'objet GridSearchCV\n",
    "# qui selectionne par validation croisée\n",
    "# le meilleur modèle sur l'espace des paramètres défini\n",
    "# au-dessus\n",
    "parameters = {'alpha':alphas, 'thres':thresholds}\n",
    "thres_lasso = Thres_lasso(max_iter=100000, fit_intercept=fit_intercept)\n",
    "clf = GridSearchCV(thres_lasso, parameters)\n",
    "\n",
    "# entraînement\n",
    "clf.fit(X_train, y_train)\n",
    "\n",
    "# prediction sur les données de validation\n",
    "y_pred_thresL = clf.predict(X_test)\n",
    "print(y_pred_thresL)"
   ]
  },
  {
   "cell_type": "markdown",
   "metadata": {},
   "source": [
    "#### Q9"
   ]
  },
  {
   "cell_type": "code",
   "execution_count": 67,
   "metadata": {
    "collapsed": false
   },
   "outputs": [
    {
     "name": "stdout",
     "output_type": "stream",
     "text": [
      "Erreur LassoCV: 0.279982251825\n",
      "Erreur Thres_Lasso avec CV: 0.478303471504\n",
      "Erreur OLS: 0.266691689925\n"
     ]
    }
   ],
   "source": [
    "# comparaison des erreurs de prédictions:\n",
    "print(\"Erreur LassoCV:\", mean_squared_error(y_test, y_pred))\n",
    "print(\"Erreur Thres_Lasso avec CV:\", mean_squared_error(y_test, y_pred_thresL))\n",
    "\n",
    "ols = LinearRegression(fit_intercept=fit_intercept)\n",
    "ols.fit(X_train, y_train)\n",
    "y_ols = ols.predict(X_test)\n",
    "\n",
    "print(\"Erreur OLS:\",mean_squared_error(y_test, y_ols))"
   ]
  },
  {
   "cell_type": "markdown",
   "metadata": {},
   "source": [
    "#### Q10"
   ]
  },
  {
   "cell_type": "code",
   "execution_count": 68,
   "metadata": {
    "collapsed": true
   },
   "outputs": [],
   "source": [
    "# Test avec un Bolasso, combiné avec une validation croisée\n",
    "# sur le paramètre de régularisation du Lasso.\n",
    "\n",
    "def bolasso(X, y, m, alpha,fit_intercept):\n",
    "    \"\"\"\n",
    "    X : feature matrix\n",
    "    y : target\n",
    "    m : number of bootstrap samples\n",
    "    alpha : Lasso regularization parameter\n",
    "    \"\"\"\n",
    "\n",
    "    support = np.ones(np.shape(X)[1])\n",
    "    for i in range(m):\n",
    "        Xi, yi = resample(X, y) # creating one bootstrap sample\n",
    "        lasso = Lasso(alpha=alpha, fit_intercept=fit_intercept, max_iter=1000)\n",
    "        lasso.fit(Xi,yi) # applying Lasso on the sample\n",
    "        support_temp = [ 1. if coef != 0. else 0. for coef in lasso.coef_] # support of the coef_ vector\n",
    "        support = support_temp * support  # computing support_temp 'inter' support\n",
    "\n",
    "    columns = [ i for i in range(np.shape(X)[1]) if support[i]==1.]\n",
    "\n",
    "    X_red = X[:, columns] # selecting the columns in X that are indicated in support\n",
    "    ols = LinearRegression(fit_intercept=fit_intercept)\n",
    "    ols.fit(X_red,y) # ordinary least square using the reduced X matrix\n",
    "\n",
    "    # building the result of bolasso\n",
    "    theta = np.zeros(np.shape(X)[1])\n",
    "    for i in range(len(columns)):\n",
    "        theta[columns[i]] = ols.coef_[i]\n",
    "\n",
    "    return theta, ols.intercept_\n"
   ]
  },
  {
   "cell_type": "code",
   "execution_count": 69,
   "metadata": {
    "collapsed": false
   },
   "outputs": [
    {
     "name": "stdout",
     "output_type": "stream",
     "text": [
      "1e-09\n",
      "3.5938136638e-09\n",
      "1.29154966501e-08\n",
      "4.64158883361e-08\n",
      "1.6681005372e-07\n",
      "5.99484250319e-07\n",
      "2.15443469003e-06\n",
      "7.74263682681e-06\n",
      "2.78255940221e-05\n",
      "0.0001\n",
      "  lambda ,   erreur   \n",
      "(1.0000000000000001e-09, 0.35462152759476562)\n",
      "(3.5938136638046257e-09, 0.35959206753160106)\n",
      "(4.6415888336127821e-08, 0.37547733774374009)\n",
      "(1.2915496650148827e-08, 0.38115967880385865)\n",
      "(1.6681005372000591e-07, 0.39240244055943407)\n",
      "(5.9948425031894092e-07, 0.44517160279970241)\n",
      "(2.1544346900318865e-06, 0.48719077769194757)\n",
      "(2.782559402207126e-05, 0.63358844310608498)\n",
      "(0.0001, 0.67374667273351574)\n",
      "(7.7426368268112769e-06, 1.0903063621263624)\n"
     ]
    },
    {
     "name": "stderr",
     "output_type": "stream",
     "text": [
      "/home/maxime/anaconda3/lib/python3.4/site-packages/sklearn/linear_model/coordinate_descent.py:444: ConvergenceWarning: Objective did not converge. You might want to increase the number of iterations\n",
      "  ConvergenceWarning)\n"
     ]
    }
   ],
   "source": [
    "dico = {}\n",
    "# validation croisée sur le paramètre lambda\n",
    "for l in np.logspace(-9, -4, 10):\n",
    "    print(l)\n",
    "    theta, inter = bolasso(X_train, y_train, 10, l, fit_intercept)\n",
    "    y_pred = np.dot(X_test, theta)\n",
    "    # erreur sur les données de validation\n",
    "    error = mean_squared_error(y_pred, y_test)\n",
    "    dico[l]=error\n",
    "\n",
    "dico = sorted(dico.items(), key=lambda x: x[1])\n",
    "\n",
    "print('  lambda ,   erreur   ')\n",
    "for k in dico:\n",
    "    print(k)"
   ]
  },
  {
   "cell_type": "markdown",
   "metadata": {},
   "source": [
    "Sans inclure l'intercept, les résultats ne sont pas très bons. La meilleure méthode semble être le LassoCV, toutes les autres méthodes produisent des erreurs supérieures."
   ]
  },
  {
   "cell_type": "markdown",
   "metadata": {},
   "source": [
    "#### Q11"
   ]
  },
  {
   "cell_type": "markdown",
   "metadata": {},
   "source": [
    "En activant fit_intercept = True au début de l'exercice les résultats sont généralement meilleurs avec toute les méthodes, et le meilleur résultat est obtenu avec les moindres carrés ordinaires.\n",
    "On observe d'ailleurs sur la cross-validation avec le bolasso (Q10), que plus alpha est petit plus l'erreur quadratique diminue. Ceci est cohérent : dans le Lasso, quand alpha=0, on retrouve les moindres carrés qui donnent ici le meilleur résultat."
   ]
  },
  {
   "cell_type": "markdown",
   "metadata": {},
   "source": [
    "#### Q12"
   ]
  },
  {
   "cell_type": "code",
   "execution_count": 38,
   "metadata": {
    "collapsed": false
   },
   "outputs": [
    {
     "name": "stdout",
     "output_type": "stream",
     "text": [
      "[ 1. -1.  1.  1. -1. -1.  1. -1.  1.  1.  1. -1.  1.  1.  1.]\n",
      "Erreur logistic regression: 1.0\n",
      "[1.0, -1.0, 1.0, 1.0, -1.0, -1.0, 1.0, -1.0, 1.0, 1.0, 1.0, 1.0, 1.0, 1.0, 1.0]\n",
      "Erreur LassoCV: 0.952380952381\n"
     ]
    },
    {
     "name": "stderr",
     "output_type": "stream",
     "text": [
      "/home/maxime/anaconda3/lib/python3.4/site-packages/sklearn/linear_model/coordinate_descent.py:444: ConvergenceWarning: Objective did not converge. You might want to increase the number of iterations\n",
      "  ConvergenceWarning)\n"
     ]
    }
   ],
   "source": [
    "lgreg = LogisticRegressionCV()\n",
    "lgreg.fit(X_train,y_train)\n",
    "y_pred_lgreg = lgreg.predict(X_test)\n",
    "print(y_pred_lgreg)\n",
    "\n",
    "print(\"Erreur logistic regression:\", f1_score(y_test, y_pred_lgreg))\n",
    "\n",
    "\n",
    "lassocv = LassoCV(n_alphas=17)\n",
    "lassocv.fit(X_train, y_train) \n",
    "y_pred = lassocv.predict(X_test)\n",
    "\n",
    "# modification des résultats du Lasso pour avoir des résultats dans {-1,1}:\n",
    "y_pred = [-1. if yi < 0. else 1. for yi in y_pred]\n",
    "print(y_pred)\n",
    "\n",
    "print(\"Erreur LassoCV:\", f1_score(y_test, y_pred))"
   ]
  },
  {
   "cell_type": "markdown",
   "metadata": {},
   "source": [
    "La regression logistic a une meilleure performance sur les données de validation (f1-score = 1, ce qui est la valeur maximale quand toutes les predictions sont correctes)."
   ]
  }
 ],
 "metadata": {
  "kernelspec": {
   "display_name": "Python 3",
   "language": "python",
   "name": "python3"
  },
  "language_info": {
   "codemirror_mode": {
    "name": "ipython",
    "version": 3
   },
   "file_extension": ".py",
   "mimetype": "text/x-python",
   "name": "python",
   "nbconvert_exporter": "python",
   "pygments_lexer": "ipython3",
   "version": "3.4.3"
  }
 },
 "nbformat": 4,
 "nbformat_minor": 0
}
