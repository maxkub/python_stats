{
 "cells": [
  {
   "cell_type": "markdown",
   "metadata": {},
   "source": [
    "# TP SVM     Maxime Kubryk"
   ]
  },
  {
   "cell_type": "code",
   "execution_count": 1,
   "metadata": {
    "collapsed": true
   },
   "outputs": [],
   "source": [
    "from sklearn.svm import SVC\n",
    "from sklearn import datasets\n",
    "from sklearn.cross_validation import train_test_split\n",
    "from sklearn.grid_search import GridSearchCV\n",
    "import numpy as np\n",
    "from sklearn.datasets import fetch_lfw_people\n",
    "from time import time\n",
    "import matplotlib.pyplot as plt\n",
    "from sklearn.decomposition import RandomizedPCA\n",
    "\n",
    "%matplotlib inline"
   ]
  },
  {
   "cell_type": "markdown",
   "metadata": {},
   "source": [
    "#### Question 1"
   ]
  },
  {
   "cell_type": "code",
   "execution_count": null,
   "metadata": {
    "collapsed": false
   },
   "outputs": [],
   "source": [
    "iris = datasets.load_iris()\n",
    "X = iris.data\n",
    "y = iris.target\n",
    "\n",
    "X = X[y != 0, :2]\n",
    "y = y[y != 0]\n",
    "\n",
    "print len(X), len(y)"
   ]
  },
  {
   "cell_type": "code",
   "execution_count": null,
   "metadata": {
    "collapsed": false
   },
   "outputs": [],
   "source": [
    "X_train, X_test, y_train, y_test = train_test_split(X, y, test_size=0.5, random_state=42)\n",
    "print len(X_train),len(X_test)"
   ]
  },
  {
   "cell_type": "code",
   "execution_count": null,
   "metadata": {
    "collapsed": false
   },
   "outputs": [],
   "source": [
    "# avec un noyau linéaire :\n",
    "clf = SVC(kernel = 'linear', C=1.)\n",
    "clf.fit(X_train, y_train)\n",
    "\n",
    "print \"noyau linéaire, accuracy score :\", clf.score(X_test, y_test)"
   ]
  },
  {
   "cell_type": "markdown",
   "metadata": {},
   "source": [
    "#### Question 2"
   ]
  },
  {
   "cell_type": "code",
   "execution_count": null,
   "metadata": {
    "collapsed": false
   },
   "outputs": [],
   "source": [
    "# avec un noyau polynomial :\n",
    "clf = SVC(kernel = 'poly', degree=3, C=1.)\n",
    "clf.fit(X_train, y_train)\n",
    "\n",
    "print \"noyau polynomial de degrés 3, accuracy score :\", clf.score(X_test, y_test)"
   ]
  },
  {
   "cell_type": "markdown",
   "metadata": {},
   "source": [
    "#### Question 3"
   ]
  },
  {
   "cell_type": "markdown",
   "metadata": {},
   "source": [
    "#### Question 4"
   ]
  },
  {
   "cell_type": "markdown",
   "metadata": {},
   "source": [
    "### Données pour les questions suivantes"
   ]
  },
  {
   "cell_type": "code",
   "execution_count": 2,
   "metadata": {
    "collapsed": false
   },
   "outputs": [],
   "source": [
    "# Download the data (if not already on disk); load it as numpy arrays\n",
    "lfw_people = fetch_lfw_people(min_faces_per_person=70, resize=0.4,\n",
    "                              color=True, funneled=False, slice_=None)  \n",
    "# data_home='.'\n",
    "\n",
    "# introspect the images arrays to find the shapes (for plotting)\n",
    "images = lfw_people.images / 255.\n",
    "n_samples, h, w, n_colors = images.shape\n",
    "\n",
    "# the label to predict is the id of the person\n",
    "target_names = lfw_people.target_names.tolist()\n"
   ]
  },
  {
   "cell_type": "code",
   "execution_count": 3,
   "metadata": {
    "collapsed": false
   },
   "outputs": [],
   "source": [
    "# Pick a pair to classify such as\n",
    "names = ['Tony Blair', 'Colin Powell']\n",
    "#names = ['Donald Rumsfeld', 'Colin Powell']\n",
    "\n",
    "idx0 = (lfw_people.target == target_names.index(names[0]))\n",
    "idx1 = (lfw_people.target == target_names.index(names[1]))\n",
    "images = np.r_[images[idx0], images[idx1]]\n",
    "n_samples = images.shape[0]\n",
    "y = np.r_[np.zeros(np.sum(idx0)), np.ones(np.sum(idx1))].astype(np.int)"
   ]
  },
  {
   "cell_type": "code",
   "execution_count": 4,
   "metadata": {
    "collapsed": true
   },
   "outputs": [],
   "source": [
    "# Extract features\n",
    "\n",
    "# features using only illuminations\n",
    "X = (np.mean(images, axis=3)).reshape(n_samples, -1)\n",
    "\n",
    "# # or compute features using colors (3 times more features)\n",
    "# X = images.copy().reshape(n_samples, -1)\n",
    "\n",
    "# Scale features\n",
    "X -= np.mean(X, axis=0)\n",
    "X /= np.std(X, axis=0)"
   ]
  },
  {
   "cell_type": "code",
   "execution_count": 5,
   "metadata": {
    "collapsed": true
   },
   "outputs": [],
   "source": [
    "# Split data into a half training and half test set\n",
    "#X_train, X_test, y_train, y_test, images_train, images_test = \\\n",
    "#    train_test_split(X, y, images, test_size=0.5, random_state=0)\n",
    "#X_train, X_test, y_train, y_test = \\\n",
    "#    train_test_split(X, y, test_size=0.5, random_state=0)\n",
    "\n",
    "indices = np.random.permutation(X.shape[0])\n",
    "train_idx, test_idx = indices[:X.shape[0]/2], indices[X.shape[0]/2:]\n",
    "X_train, X_test = X[train_idx,:], X[test_idx,:]\n",
    "y_train, y_test = y[train_idx], y[test_idx]\n",
    "images_train, images_test = images[train_idx,:,:,:], images[test_idx,:,:,:]\n"
   ]
  },
  {
   "cell_type": "code",
   "execution_count": 6,
   "metadata": {
    "collapsed": true
   },
   "outputs": [],
   "source": [
    "def plot_gallery(images, titles, n_row=3, n_col=4):\n",
    "    \"\"\"Helper function to plot a gallery of portraits\"\"\"\n",
    "    plt.figure(figsize=(1.8 * n_col, 2.4 * n_row))\n",
    "    plt.subplots_adjust(bottom=0, left=.01, right=.99, top=.90,\n",
    "                       hspace=.35)\n",
    "    for i in range(n_row * n_col):\n",
    "        plt.subplot(n_row, n_col, i + 1)\n",
    "        plt.imshow(images[i])\n",
    "        plt.title(titles[i], size=12)\n",
    "        plt.xticks(())\n",
    "        plt.yticks(())"
   ]
  },
  {
   "cell_type": "code",
   "execution_count": 7,
   "metadata": {
    "collapsed": true
   },
   "outputs": [],
   "source": [
    "def title(y_pred, y_test, names):\n",
    "    pred_name = names[int(y_pred)].rsplit(' ', 1)[-1]\n",
    "    true_name = names[int(y_test)].rsplit(' ', 1)[-1]\n",
    "    return 'predicted: %s\\ntrue:      %s' % (pred_name, true_name)"
   ]
  },
  {
   "cell_type": "markdown",
   "metadata": {},
   "source": [
    "#### Question 5"
   ]
  },
  {
   "cell_type": "code",
   "execution_count": 8,
   "metadata": {
    "collapsed": false
   },
   "outputs": [],
   "source": [
    "# valeurs de C qui seront testées :\n",
    "C_values = np.logspace(-5, 5, 30)\n",
    "\n",
    "\n",
    "def C_testing(X_train, X_test, y_train, y_test, C_values, kernel='linear'):\n",
    "    \"\"\"\n",
    "    Test des valeurs de C données dans C_values\n",
    "    \"\"\"\n",
    "    scores = []\n",
    "\n",
    "    for c in C_values:\n",
    "    \n",
    "        clf = SVC(kernel=kernel, C=c)\n",
    "        clf = clf.fit(X_train, y_train)\n",
    "\n",
    "        y_pred = clf.predict(X_test)\n",
    "    \n",
    "        scores.append(clf.score(X_test, y_test))\n",
    "    \n",
    "        print \"%5.3e, %5.3f\"%(c, scores[-1])\n",
    "        \n",
    "    return scores"
   ]
  },
  {
   "cell_type": "code",
   "execution_count": 9,
   "metadata": {
    "collapsed": false
   },
   "outputs": [
    {
     "name": "stdout",
     "output_type": "stream",
     "text": [
      "1.000e-05, 0.626\n",
      "2.212e-05, 0.674\n",
      "4.894e-05, 0.800\n",
      "1.083e-04, 0.868\n",
      "2.395e-04, 0.884\n",
      "5.298e-04, 0.884\n",
      "1.172e-03, 0.900\n",
      "2.593e-03, 0.900\n",
      "5.736e-03, 0.900\n",
      "1.269e-02, 0.900\n",
      "2.807e-02, 0.900\n",
      "6.210e-02, 0.900\n",
      "1.374e-01, 0.900\n",
      "3.039e-01, 0.900\n",
      "6.723e-01, 0.900\n",
      "1.487e+00, 0.900\n",
      "3.290e+00, 0.900\n",
      "7.279e+00, 0.900\n",
      "1.610e+01, 0.900\n",
      "3.562e+01, 0.900\n",
      "7.880e+01, 0.900\n",
      "1.743e+02, 0.900\n",
      "3.857e+02, 0.900\n",
      "8.532e+02, 0.900\n",
      "1.887e+03, 0.900\n",
      "4.175e+03, 0.900\n",
      "9.237e+03, 0.900\n",
      "2.043e+04, 0.900\n",
      "4.520e+04, 0.900\n",
      "1.000e+05, 0.900\n"
     ]
    }
   ],
   "source": [
    "scores = C_testing(X_train, X_test, y_train, y_test, C_values)"
   ]
  },
  {
   "cell_type": "code",
   "execution_count": 10,
   "metadata": {
    "collapsed": false
   },
   "outputs": [
    {
     "name": "stdout",
     "output_type": "stream",
     "text": [
      "score max :  0.9\n"
     ]
    },
    {
     "data": {
      "text/plain": [
       "<matplotlib.text.Text at 0x7f1aaa7cca10>"
      ]
     },
     "execution_count": 10,
     "metadata": {},
     "output_type": "execute_result"
    },
    {
     "data": {
      "image/png": "[encoded data removed]",
      "text/plain": [
       "<matplotlib.figure.Figure at 0x7f1aac879d50>"
      ]
     },
     "metadata": {},
     "output_type": "display_data"
    }
   ],
   "source": [
    "print \"score max : \", max(scores)\n",
    "\n",
    "plt.figure(figsize=(13,9))\n",
    "plt.semilogx(C_values, scores)\n",
    "plt.xlabel('C')\n",
    "plt.ylabel('accuracy score')"
   ]
  },
  {
   "cell_type": "markdown",
   "metadata": {},
   "source": [
    "#### Question 6"
   ]
  },
  {
   "cell_type": "code",
   "execution_count": 11,
   "metadata": {
    "collapsed": true
   },
   "outputs": [],
   "source": [
    "# fonction pour ajouter n colonnes de bruits dans un array :\n",
    "def add_noise(array, ncols=3):\n",
    "    a = np.random.rand(len(array),ncols)*2. -1.  # valeurs entre -1 and 1\n",
    "    array = np.append(array, a, axis=1)\n",
    "    return array"
   ]
  },
  {
   "cell_type": "code",
   "execution_count": null,
   "metadata": {
    "collapsed": false
   },
   "outputs": [],
   "source": [
    "# Pour la meilleur valeur de C,\n",
    "# On va tester le score de la SVM en ajoutant des colunnes de bruits.\n",
    "# On garde C=1e-3 qui est bonne valeur pour le paramètre de régularisation, d'après les résultats précédents.\n",
    "\n",
    "N_noisy_max = 30 # number of iterations\n",
    "N_noisy_step = 500 # number of random columns added at each step\n",
    "\n",
    "X_train_noisy = X_train\n",
    "X_test_noisy = X_test\n",
    "\n",
    "\n",
    "scores = [] # scores\n",
    "n_cols = [] # number of random columns\n",
    "for i in range(N_noisy_max):\n",
    "    \n",
    "    X_train_noisy = add_noise(X_train_noisy, ncols=N_noisy_step)\n",
    "    X_test_noisy = add_noise(X_test_noisy, ncols=N_noisy_step)\n",
    "    \n",
    "    clf = SVC(kernel='linear', C=1e-3)\n",
    "    clf = clf.fit(X_train_noisy, y_train)\n",
    "\n",
    "    y_pred = clf.predict(X_test_noisy)\n",
    "    \n",
    "    scores.append(clf.score(X_test_noisy, y_test))\n",
    "    \n",
    "    if i==0:\n",
    "        n_cols = [0]\n",
    "    else:\n",
    "        n_cols.append(n_cols[-1] + N_noisy_step)\n",
    "    \n",
    "    \n",
    "    print \"%5.1f, %5.3f\"%(n_cols[-1], scores[-1])"
   ]
  },
  {
   "cell_type": "code",
   "execution_count": null,
   "metadata": {
    "collapsed": false
   },
   "outputs": [],
   "source": [
    "print(len(scores), len(n_cols))\n",
    "\n",
    "plt.figure(figsize=(13,9))\n",
    "plt.plot(n_cols, scores)\n",
    "plt.xlabel(\"number of random columns\")\n",
    "plt.ylabel('accuracy score')"
   ]
  },
  {
   "cell_type": "markdown",
   "metadata": {},
   "source": [
    "Il faut ajouter un grand nombre de variables random pour voir une diminution nette de la performance de l'algorithme."
   ]
  },
  {
   "cell_type": "markdown",
   "metadata": {},
   "source": [
    "#### Question 7"
   ]
  },
  {
   "cell_type": "markdown",
   "metadata": {},
   "source": [
    "On centre et réduit les données d'une part pour les regrouper autour de l'origine, ce qui permet de mettre le biais $\\omega_0$ à 0, et d'autre part pour rendre les variables explicatives comparables."
   ]
  },
  {
   "cell_type": "markdown",
   "metadata": {},
   "source": [
    "#### Question 8"
   ]
  },
  {
   "cell_type": "code",
   "execution_count": 12,
   "metadata": {
    "collapsed": false
   },
   "outputs": [
    {
     "name": "stdout",
     "output_type": "stream",
     "text": [
      "1.000e-05, 0.626\n",
      "2.212e-05, 0.626\n",
      "4.894e-05, 0.626\n",
      "1.083e-04, 0.626\n",
      "2.395e-04, 0.626\n",
      "5.298e-04, 0.626\n",
      "1.172e-03, 0.626\n",
      "2.593e-03, 0.626\n",
      "5.736e-03, 0.626\n",
      "1.269e-02, 0.626\n",
      "2.807e-02, 0.626\n",
      "6.210e-02, 0.626\n",
      "1.374e-01, 0.626\n",
      "3.039e-01, 0.626\n",
      "6.723e-01, 0.747\n",
      "1.487e+00, 0.842\n",
      "3.290e+00, 0.847\n",
      "7.279e+00, 0.842\n",
      "1.610e+01, 0.842\n",
      "3.562e+01, 0.842\n",
      "7.880e+01, 0.842\n",
      "1.743e+02, 0.842\n",
      "3.857e+02, 0.842\n",
      "8.532e+02, 0.842\n",
      "1.887e+03, 0.842\n",
      "4.175e+03, 0.842\n",
      "9.237e+03, 0.842\n",
      "2.043e+04, 0.842\n",
      "4.520e+04, 0.842\n",
      "1.000e+05, 0.842\n"
     ]
    }
   ],
   "source": [
    "scores = C_testing(X_train, X_test, y_train, y_test, C_values, kernel='rbf')"
   ]
  },
  {
   "cell_type": "code",
   "execution_count": 13,
   "metadata": {
    "collapsed": false
   },
   "outputs": [
    {
     "name": "stdout",
     "output_type": "stream",
     "text": [
      "score max :  0.847368421053\n"
     ]
    },
    {
     "data": {
      "text/plain": [
       "<matplotlib.text.Text at 0x7f1aaa6cfc90>"
      ]
     },
     "execution_count": 13,
     "metadata": {},
     "output_type": "execute_result"
    },
    {
     "data": {
      "image/png": "[encoded data removed]",
      "text/plain": [
       "<matplotlib.figure.Figure at 0x7f1aac879910>"
      ]
     },
     "metadata": {},
     "output_type": "display_data"
    }
   ],
   "source": [
    "print \"score max : \", max(scores)\n",
    "\n",
    "plt.figure(figsize=(13,9))\n",
    "plt.semilogx(C_values, scores)\n",
    "plt.title('C testing with rbf kernel')\n",
    "plt.xlabel('C')\n",
    "plt.ylabel('accuracy score')"
   ]
  },
  {
   "cell_type": "markdown",
   "metadata": {},
   "source": [
    "Un kernel RBF, donne des résultats moins bons que le kernel linéaire."
   ]
  },
  {
   "cell_type": "markdown",
   "metadata": {},
   "source": [
    "Si on applique une PCA rondomisée avant la SVM :"
   ]
  },
  {
   "cell_type": "code",
   "execution_count": 22,
   "metadata": {
    "collapsed": false
   },
   "outputs": [
    {
     "name": "stdout",
     "output_type": "stream",
     "text": [
      "10\n",
      "(190, 10) (190, 10)\n",
      "1.000e-07, 0.647\n",
      "5.456e-07, 0.647\n",
      "2.976e-06, 0.647\n",
      "1.624e-05, 0.647\n",
      "8.859e-05, 0.647\n",
      "4.833e-04, 0.647\n",
      "2.637e-03, 0.647\n",
      "1.438e-02, 0.647\n",
      "7.848e-02, 0.647\n",
      "4.281e-01, 0.684\n",
      "2.336e+00, 0.658\n",
      "1.274e+01, 0.663\n",
      "6.952e+01, 0.684\n",
      "3.793e+02, 0.684\n",
      "2.069e+03, 0.684\n",
      "1.129e+04, 0.684\n",
      "6.158e+04, 0.684\n",
      "3.360e+05, 0.684\n",
      "1.833e+06, 0.684\n",
      "1.000e+07, 0.684\n",
      "210\n",
      "(190, 190) (190, 190)\n",
      "1.000e-07, 0.647\n",
      "5.456e-07, 0.647\n",
      "2.976e-06, 0.647\n",
      "1.624e-05, 0.647\n",
      "8.859e-05, 0.647\n",
      "4.833e-04, 0.647\n",
      "2.637e-03, 0.647\n",
      "1.438e-02, 0.647\n",
      "7.848e-02, 0.647\n",
      "4.281e-01, 0.647\n",
      "2.336e+00, 0.647\n",
      "1.274e+01, 0.647\n",
      "6.952e+01, 0.647\n",
      "3.793e+02, 0.647\n",
      "2.069e+03, 0.647\n",
      "1.129e+04, 0.647\n",
      "6.158e+04, 0.647\n",
      "3.360e+05, 0.647\n",
      "1.833e+06, 0.647\n",
      "1.000e+07, 0.647\n",
      "410\n",
      "(190, 190) (190, 190)\n",
      "1.000e-07, 0.647\n",
      "5.456e-07, 0.647\n",
      "2.976e-06, 0.647\n",
      "1.624e-05, 0.647\n",
      "8.859e-05, 0.647\n",
      "4.833e-04, 0.647\n",
      "2.637e-03, 0.647\n",
      "1.438e-02, 0.647\n",
      "7.848e-02, 0.647\n",
      "4.281e-01, 0.647\n",
      "2.336e+00, 0.647\n",
      "1.274e+01, 0.647\n",
      "6.952e+01, 0.647\n",
      "3.793e+02, 0.647\n",
      "2.069e+03, 0.647\n",
      "1.129e+04, 0.647\n",
      "6.158e+04, 0.647\n",
      "3.360e+05, 0.647\n",
      "1.833e+06, 0.647\n",
      "1.000e+07, 0.647\n",
      "610\n",
      "(190, 190) (190, 190)\n",
      "1.000e-07, 0.647\n",
      "5.456e-07, 0.647\n",
      "2.976e-06, 0.647\n",
      "1.624e-05, 0.647\n",
      "8.859e-05, 0.647\n",
      "4.833e-04, 0.647\n",
      "2.637e-03, 0.647\n",
      "1.438e-02, 0.647\n",
      "7.848e-02, 0.647\n",
      "4.281e-01, 0.647\n",
      "2.336e+00, 0.647\n",
      "1.274e+01, 0.647\n",
      "6.952e+01, 0.647\n",
      "3.793e+02, 0.647\n",
      "2.069e+03, 0.647\n",
      "1.129e+04, 0.647\n",
      "6.158e+04, 0.647\n",
      "3.360e+05, 0.647\n",
      "1.833e+06, 0.647\n",
      "1.000e+07, 0.647\n",
      "810\n",
      "(190, 190) (190, 190)\n",
      "1.000e-07, 0.647\n",
      "5.456e-07, 0.647\n",
      "2.976e-06, 0.647\n",
      "1.624e-05, 0.647\n",
      "8.859e-05, 0.647\n",
      "4.833e-04, 0.647\n",
      "2.637e-03, 0.647\n",
      "1.438e-02, 0.647\n",
      "7.848e-02, 0.647\n",
      "4.281e-01, 0.647\n",
      "2.336e+00, 0.647\n",
      "1.274e+01, 0.647\n",
      "6.952e+01, 0.647\n",
      "3.793e+02, 0.647\n",
      "2.069e+03, 0.647\n",
      "1.129e+04, 0.647\n",
      "6.158e+04, 0.647\n",
      "3.360e+05, 0.647\n",
      "1.833e+06, 0.647\n",
      "1.000e+07, 0.647\n"
     ]
    }
   ],
   "source": [
    "n_components = range(10, 1010, 200)\n",
    "C_values = np.logspace(-7, 7, 20)\n",
    "\n",
    "all_scores = []\n",
    "for n in n_components:\n",
    "    print n\n",
    "    pca = RandomizedPCA(n_components=n, whiten=True)\n",
    "    pca.fit(X_train)\n",
    "    X_train_pca = pca.transform(X_train)\n",
    "    X_test_pca = pca.transform(X_test)\n",
    "\n",
    "    print np.shape(X_train_pca), np.shape(X_test_pca)\n",
    "    \n",
    "    scores = C_testing(X_train_pca, X_test_pca, y_train, y_test, C_values, kernel='rbf')\n",
    "    all_scores.append(scores)"
   ]
  },
  {
   "cell_type": "code",
   "execution_count": 23,
   "metadata": {
    "collapsed": false
   },
   "outputs": [
    {
     "data": {
      "text/plain": [
       "<matplotlib.legend.Legend at 0x7fde1b6b0810>"
      ]
     },
     "execution_count": 23,
     "metadata": {},
     "output_type": "execute_result"
    },
    {
     "data": {
      "image/png": "[encoded data removed]",
      "text/plain": [
       "<matplotlib.figure.Figure at 0x7fde1b869c10>"
      ]
     },
     "metadata": {},
     "output_type": "display_data"
    }
   ],
   "source": [
    "plt.figure(figsize=(13,9))\n",
    "for i in range(len(all_scores)):\n",
    "    plt.semilogx(C_values, all_scores[i], label=str(n_components[i])+' components')\n",
    "    \n",
    "plt.legend(loc='best')"
   ]
  },
  {
   "cell_type": "code",
   "execution_count": null,
   "metadata": {
    "collapsed": false
   },
   "outputs": [],
   "source": [
    "pca = RandomizedPCA(whiten=True)\n",
    "pca.fit(X_train)\n",
    "\n",
    "var = pca.explained_variance_ratio_"
   ]
  },
  {
   "cell_type": "code",
   "execution_count": null,
   "metadata": {
    "collapsed": true
   },
   "outputs": [],
   "source": [
    "plt.figure(figsize=(13,9))\n",
    "plt.plot(range(np.shape(X_train)[1]), var)"
   ]
  },
  {
   "cell_type": "markdown",
   "metadata": {},
   "source": [
    "#### Question 9"
   ]
  },
  {
   "cell_type": "code",
   "execution_count": 14,
   "metadata": {
    "collapsed": false
   },
   "outputs": [
    {
     "name": "stdout",
     "output_type": "stream",
     "text": [
      "score :  0.894736842105\n"
     ]
    }
   ],
   "source": [
    "clf = SVC(kernel='linear', C=1e-3)\n",
    "clf.fit(X_train, y_train)\n",
    "\n",
    "print \"score : \", clf.score(X_test, y_test)"
   ]
  },
  {
   "cell_type": "code",
   "execution_count": 29,
   "metadata": {
    "collapsed": false
   },
   "outputs": [
    {
     "name": "stdout",
     "output_type": "stream",
     "text": [
      "[-0.00275077 -0.00258222 -0.0021269  ..., -0.00066616  0.00126138\n",
      "  0.0027907 ]\n",
      "0.306308518076\n"
     ]
    },
    {
     "data": {
      "text/plain": [
       "<matplotlib.collections.PathCollection at 0x7f1aaa1572d0>"
      ]
     },
     "execution_count": 29,
     "metadata": {},
     "output_type": "execute_result"
    },
    {
     "data": {
      "image/png": "[encoded data removed]",
      "text/plain": [
       "<matplotlib.figure.Figure at 0x7f1aaa480e50>"
      ]
     },
     "metadata": {},
     "output_type": "display_data"
    }
   ],
   "source": [
    "# coeff du problème primale w, w0 \n",
    "w = clf.coef_[0]\n",
    "w0 = clf.intercept_[0]\n",
    "\n",
    "marges = np.asarray([y_train[i]*(np.dot(w, X_train[i,:]) + w0) for i in range(len(X_train))])\n",
    "\n",
    "\n",
    "\n",
    "print w\n",
    "print w0\n",
    "\n",
    "plt.scatter(range(len(X_train)), 1-marges)"
   ]
  },
  {
   "cell_type": "code",
   "execution_count": 24,
   "metadata": {
    "collapsed": false
   },
   "outputs": [
    {
     "name": "stdout",
     "output_type": "stream",
     "text": [
      "(118,)\n",
      "[ -1.20871257e-04  -2.21089519e-04  -4.84036141e-04  -1.17387108e-04\n",
      "  -4.19214891e-04  -5.49054591e-05  -4.87300247e-04  -1.81635210e-04\n",
      "  -5.81601477e-05  -3.82237743e-04  -1.17146737e-05  -1.73487305e-05\n",
      "  -2.81458485e-04  -5.48087956e-04  -4.34165521e-05  -3.10021965e-04\n",
      "  -4.12079675e-04  -6.70427203e-04  -4.25539703e-05  -3.11312125e-04\n",
      "  -1.00000000e-03  -9.72573727e-05  -3.61121426e-04  -3.47763228e-04\n",
      "  -2.51453499e-04  -1.60292150e-04  -2.49623197e-04  -2.02277771e-04\n",
      "  -5.38771226e-04  -2.30558961e-04  -1.19606787e-04  -1.10280493e-04\n",
      "  -1.70080829e-04  -1.01490277e-04  -3.94601167e-05  -5.50266726e-04\n",
      "  -1.82568733e-04  -1.14487555e-05  -1.13665550e-04  -7.69104843e-05\n",
      "  -2.65977180e-04  -1.00251830e-04  -1.94675562e-04  -2.90637580e-04\n",
      "  -7.97162699e-05  -6.08813076e-04  -3.42474835e-04  -1.83197088e-05\n",
      "  -8.46565297e-05  -2.99047024e-05  -1.67030846e-04  -1.02646507e-04\n",
      "   7.62923990e-04   3.11112044e-04   2.93706327e-04   2.17806382e-04\n",
      "   4.20640573e-04   1.15397242e-04   2.56787468e-05   8.99074412e-05\n",
      "   1.68155157e-04   1.64666263e-04   1.26244218e-04   1.75907692e-04\n",
      "   1.78683824e-04   9.59196678e-05   1.67455350e-05   1.25311989e-04\n",
      "   1.58570611e-04   3.43824427e-05   1.82616651e-04   1.00291313e-04\n",
      "   6.80973278e-04   9.81140175e-05   5.83344057e-05   3.67673415e-04\n",
      "   2.11022198e-04   5.63991653e-05   3.89470007e-05   2.32389455e-04\n",
      "   1.25637670e-04   2.19731671e-04   2.56645244e-04   6.75380688e-05\n",
      "   4.00476146e-05   4.79090231e-04   2.11037508e-04   6.96980065e-05\n",
      "   2.96346982e-05   3.18039122e-04   1.44535036e-04   1.47261060e-04\n",
      "   3.73932534e-05   2.18329769e-04   1.74366418e-04   2.60018550e-05\n",
      "   7.05933440e-05   1.17011856e-05   2.98239165e-04   1.57665445e-04\n",
      "   2.92597129e-04   2.09182150e-05   3.60550670e-04   4.00051317e-04\n",
      "   3.18041050e-05   1.25905720e-04   9.17938836e-04   2.73765013e-04\n",
      "   7.06202278e-06   6.66206946e-05   1.20204980e-04   3.63096657e-04\n",
      "   5.70252300e-05   2.00333190e-04   3.90958033e-05   2.15289682e-04\n",
      "   2.44638884e-04   2.66557094e-05]\n"
     ]
    }
   ],
   "source": [
    "# coeff du dual alpha:\n",
    "\n",
    "alpha = clf.dual_coef_[0]\n",
    "\n",
    "print np.shape(alpha)\n",
    "print alpha"
   ]
  }
 ],
 "metadata": {
  "kernelspec": {
   "display_name": "Python 2",
   "language": "python",
   "name": "python2"
  },
  "language_info": {
   "codemirror_mode": {
    "name": "ipython",
    "version": 2
   },
   "file_extension": ".py",
   "mimetype": "text/x-python",
   "name": "python",
   "nbconvert_exporter": "python",
   "pygments_lexer": "ipython2",
   "version": "2.7.10"
  }
 },
 "nbformat": 4,
 "nbformat_minor": 0
}
