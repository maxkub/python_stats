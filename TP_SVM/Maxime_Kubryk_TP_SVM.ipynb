{
 "cells": [
  {
   "cell_type": "markdown",
   "metadata": {},
   "source": [
    "# TP SVM     Maxime Kubryk"
   ]
  },
  {
   "cell_type": "code",
   "execution_count": 92,
   "metadata": {
    "collapsed": true
   },
   "outputs": [],
   "source": [
    "from sklearn.svm import SVC\n",
    "from sklearn import datasets\n",
    "from sklearn.cross_validation import train_test_split\n",
    "from sklearn.grid_search import GridSearchCV\n",
    "import numpy as np\n",
    "from sklearn.datasets import fetch_lfw_people\n",
    "from time import time\n",
    "import matplotlib.pyplot as plt\n",
    "from sklearn.decomposition import RandomizedPCA\n",
    "from numpy.linalg import norm\n",
    "\n",
    "%matplotlib inline"
   ]
  },
  {
   "cell_type": "markdown",
   "metadata": {},
   "source": [
    "#### Question 1"
   ]
  },
  {
   "cell_type": "code",
   "execution_count": 121,
   "metadata": {
    "collapsed": false
   },
   "outputs": [
    {
     "name": "stdout",
     "output_type": "stream",
     "text": [
      "100 100\n"
     ]
    }
   ],
   "source": [
    "iris = datasets.load_iris()\n",
    "X = iris.data\n",
    "y = iris.target\n",
    "\n",
    "X = X[y != 0, :2]\n",
    "y = y[y != 0]\n",
    "\n",
    "print len(X), len(y)"
   ]
  },
  {
   "cell_type": "code",
   "execution_count": 122,
   "metadata": {
    "collapsed": false
   },
   "outputs": [
    {
     "name": "stdout",
     "output_type": "stream",
     "text": [
      "50 50\n"
     ]
    }
   ],
   "source": [
    "X_train, X_test, y_train, y_test = train_test_split(X, y, test_size=0.5, random_state=42)\n",
    "print len(X_train),len(X_test)"
   ]
  },
  {
   "cell_type": "code",
   "execution_count": 123,
   "metadata": {
    "collapsed": false
   },
   "outputs": [
    {
     "name": "stdout",
     "output_type": "stream",
     "text": [
      "noyau linéaire, accuracy score : 0.7\n"
     ]
    }
   ],
   "source": [
    "# avec un noyau linéaire :\n",
    "clf = SVC(kernel = 'linear', C=1.)\n",
    "clf.fit(X_train, y_train)\n",
    "\n",
    "print \"noyau linéaire, accuracy score :\", clf.score(X_test, y_test)"
   ]
  },
  {
   "cell_type": "markdown",
   "metadata": {},
   "source": [
    "#### Question 2"
   ]
  },
  {
   "cell_type": "code",
   "execution_count": 124,
   "metadata": {
    "collapsed": false
   },
   "outputs": [
    {
     "name": "stdout",
     "output_type": "stream",
     "text": [
      "noyau polynomial de degrés 3, accuracy score : 0.76\n"
     ]
    }
   ],
   "source": [
    "# avec un noyau polynomial :\n",
    "clf = SVC(kernel = 'poly', degree=3, C=1.)\n",
    "clf.fit(X_train, y_train)\n",
    "\n",
    "print \"noyau polynomial de degrés 3, accuracy score :\", clf.score(X_test, y_test)"
   ]
  },
  {
   "cell_type": "markdown",
   "metadata": {},
   "source": [
    "Une SVM avec un noyau polynomial de degrés 3 donne un meilleur score (une plus faible erreur quadratique moyenne). Ce qui vient du fait que la frontière de classification peut prendre des formes plus complexes qu'un hyperplan affine."
   ]
  },
  {
   "cell_type": "markdown",
   "metadata": {},
   "source": [
    "#### Question 3"
   ]
  },
  {
   "cell_type": "markdown",
   "metadata": {},
   "source": [
    "La deuxième contrainte de l'équation (2) peut se réécrire\n",
    "$$ \\xi_i \\geq 1-y_i(\\langle w,\\Phi(x_i) \\rangle + \\omega_0) \\;\\; \\forall i$$\n",
    "\n",
    "Par ailleurs la plus petite valeure de $\\xi_i$ est $0$ (première contrainte de (2)), ce qui correspond au fait que le point $i$ soit du bon côté de sa marge. On peut alors écrire:\n",
    "\n",
    "$$  \\xi_i \\geq \\left[1-y_i(\\langle w,\\Phi(x_i) \\rangle + \\omega_0)\\right]_+ \\geq 0 \\;\\; \\forall i$$\n",
    "\n",
    "Cette nouvelle contrainte inclus les deux contraintes initiales de l'équation (2).\n",
    "\n",
    "$\\xi_i$ étant le coût d'une mauvaise classification, on peut remplacer $\\xi_i$ par $\\left[1-y_i(\\langle w,\\Phi(x_i) \\rangle + \\omega_0)\\right]_+$ dans l'expression à minimiser. Le coût d'une mauvaise classification est alors inférieur au coût $\\xi_i$, mais les contraintes qui apparaissaient dans l'expression initiale du problème primal disparaissent (elles sont inclues dans la fonction Hinge).  \n",
    "\n"
   ]
  },
  {
   "cell_type": "markdown",
   "metadata": {},
   "source": [
    "#### Question 4"
   ]
  },
  {
   "cell_type": "markdown",
   "metadata": {},
   "source": [
    "L'erreur de classification qui vaut 1 ou 0 est constituée de deux plateaux, il est donc compliqué de chercher à minimiser directement cette fonction puisque son gradient est nul partout et qu'elle possède une discontinuité. La fonction Hinge est bien un majorant de l'erreur de classification (voir figure ci-dessous). Et cette fonction est convexe, ce qui permet de la minimiser avec une des méthodes utilisant le gradient. "
   ]
  },
  {
   "cell_type": "code",
   "execution_count": 125,
   "metadata": {
    "collapsed": false
   },
   "outputs": [
    {
     "data": {
      "text/plain": [
       "<matplotlib.legend.Legend at 0x7f4cd5fe8d50>"
      ]
     },
     "execution_count": 125,
     "metadata": {},
     "output_type": "execute_result"
    },
    {
     "data": {
      "image/png": "[encoded data removed]",
      "text/plain": [
       "<matplotlib.figure.Figure at 0x7f4cd6268650>"
      ]
     },
     "metadata": {},
     "output_type": "display_data"
    }
   ],
   "source": [
    "plt.figure(figsize=(13, 9))\n",
    "x = np.linspace(-5, 5, 100)\n",
    "x_m = np.linspace(-5, 0, 5)\n",
    "x_p = np.linspace(0, 5, 5)\n",
    "\n",
    "hinge = [max(0, 1-i) for i in x]\n",
    "\n",
    "plt.plot(x_m, np.ones(5), 'r', lw=2)\n",
    "plt.plot(x_p, np.zeros(5), 'r', lw=2, label='classif error')\n",
    "plt.plot(x, hinge, label='hinge loss')\n",
    "plt.legend(loc='best')"
   ]
  },
  {
   "cell_type": "markdown",
   "metadata": {},
   "source": [
    "### Données pour les questions suivantes"
   ]
  },
  {
   "cell_type": "code",
   "execution_count": 126,
   "metadata": {
    "collapsed": false
   },
   "outputs": [],
   "source": [
    "# Download the data (if not already on disk); load it as numpy arrays\n",
    "lfw_people = fetch_lfw_people(min_faces_per_person=70, resize=0.4,\n",
    "                              color=True, funneled=False, slice_=None)  \n",
    "# data_home='.'\n",
    "\n",
    "# introspect the images arrays to find the shapes (for plotting)\n",
    "images = lfw_people.images / 255.\n",
    "n_samples, h, w, n_colors = images.shape\n",
    "\n",
    "# the label to predict is the id of the person\n",
    "target_names = lfw_people.target_names.tolist()\n"
   ]
  },
  {
   "cell_type": "code",
   "execution_count": 127,
   "metadata": {
    "collapsed": false
   },
   "outputs": [],
   "source": [
    "# Pick a pair to classify such as\n",
    "names = ['Tony Blair', 'Colin Powell']\n",
    "#names = ['Donald Rumsfeld', 'Colin Powell']\n",
    "\n",
    "idx0 = (lfw_people.target == target_names.index(names[0]))\n",
    "idx1 = (lfw_people.target == target_names.index(names[1]))\n",
    "images = np.r_[images[idx0], images[idx1]]\n",
    "n_samples = images.shape[0]\n",
    "y = np.r_[np.zeros(np.sum(idx0)), np.ones(np.sum(idx1))].astype(np.int)"
   ]
  },
  {
   "cell_type": "code",
   "execution_count": 128,
   "metadata": {
    "collapsed": true
   },
   "outputs": [],
   "source": [
    "# Extract features\n",
    "\n",
    "# features using only illuminations\n",
    "X = (np.mean(images, axis=3)).reshape(n_samples, -1)\n",
    "\n",
    "# # or compute features using colors (3 times more features)\n",
    "# X = images.copy().reshape(n_samples, -1)\n",
    "\n",
    "# Scale features\n",
    "X -= np.mean(X, axis=0)\n",
    "X /= np.std(X, axis=0)"
   ]
  },
  {
   "cell_type": "code",
   "execution_count": 129,
   "metadata": {
    "collapsed": true
   },
   "outputs": [],
   "source": [
    "# Split data into a half training and half test set\n",
    "#X_train, X_test, y_train, y_test, images_train, images_test = \\\n",
    "#    train_test_split(X, y, images, test_size=0.5, random_state=0)\n",
    "#X_train, X_test, y_train, y_test = \\\n",
    "#    train_test_split(X, y, test_size=0.5, random_state=0)\n",
    "\n",
    "indices = np.random.permutation(X.shape[0])\n",
    "train_idx, test_idx = indices[:X.shape[0]/2], indices[X.shape[0]/2:]\n",
    "X_train, X_test = X[train_idx,:], X[test_idx,:]\n",
    "y_train, y_test = y[train_idx], y[test_idx]\n",
    "images_train, images_test = images[train_idx,:,:,:], images[test_idx,:,:,:]\n"
   ]
  },
  {
   "cell_type": "code",
   "execution_count": 130,
   "metadata": {
    "collapsed": true
   },
   "outputs": [],
   "source": [
    "def plot_gallery(images, titles, n_row=3, n_col=4):\n",
    "    \"\"\"Helper function to plot a gallery of portraits\"\"\"\n",
    "    plt.figure(figsize=(1.8 * n_col, 2.4 * n_row))\n",
    "    plt.subplots_adjust(bottom=0, left=.01, right=.99, top=.90,\n",
    "                       hspace=.35)\n",
    "    for i in range(n_row * n_col):\n",
    "        plt.subplot(n_row, n_col, i + 1)\n",
    "        plt.imshow(images[i])\n",
    "        plt.title(titles[i], size=12)\n",
    "        plt.xticks(())\n",
    "        plt.yticks(())"
   ]
  },
  {
   "cell_type": "code",
   "execution_count": 131,
   "metadata": {
    "collapsed": true
   },
   "outputs": [],
   "source": [
    "def title(y_pred, y_test, names):\n",
    "    pred_name = names[int(y_pred)].rsplit(' ', 1)[-1]\n",
    "    true_name = names[int(y_test)].rsplit(' ', 1)[-1]\n",
    "    return 'predicted: %s\\ntrue:      %s' % (pred_name, true_name)"
   ]
  },
  {
   "cell_type": "markdown",
   "metadata": {},
   "source": [
    "#### Question 5"
   ]
  },
  {
   "cell_type": "code",
   "execution_count": 132,
   "metadata": {
    "collapsed": false
   },
   "outputs": [],
   "source": [
    "# valeurs de C qui seront testées :\n",
    "C_values = np.logspace(-5, 5, 30)\n",
    "\n",
    "\n",
    "def C_testing(X_train, X_test, y_train, y_test, C_values, kernel='linear'):\n",
    "    \"\"\"\n",
    "    Test des valeurs de C données dans C_values\n",
    "    \"\"\"\n",
    "    scores = []\n",
    "\n",
    "    for c in C_values:\n",
    "    \n",
    "        clf = SVC(kernel=kernel, C=c)\n",
    "        clf = clf.fit(X_train, y_train)\n",
    "    \n",
    "        scores.append(clf.score(X_test, y_test))\n",
    "    \n",
    "        print \"%5.3e, %5.3f\"%(c, scores[-1])\n",
    "        \n",
    "    return np.asarray(scores)"
   ]
  },
  {
   "cell_type": "code",
   "execution_count": 133,
   "metadata": {
    "collapsed": false
   },
   "outputs": [
    {
     "name": "stdout",
     "output_type": "stream",
     "text": [
      "1.000e-05, 0.653\n",
      "2.212e-05, 0.695\n",
      "4.894e-05, 0.821\n",
      "1.083e-04, 0.905\n",
      "2.395e-04, 0.937\n",
      "5.298e-04, 0.942\n",
      "1.172e-03, 0.916\n",
      "2.593e-03, 0.916\n",
      "5.736e-03, 0.916\n",
      "1.269e-02, 0.916\n",
      "2.807e-02, 0.916\n",
      "6.210e-02, 0.916\n",
      "1.374e-01, 0.916\n",
      "3.039e-01, 0.916\n",
      "6.723e-01, 0.916\n",
      "1.487e+00, 0.916\n",
      "3.290e+00, 0.916\n",
      "7.279e+00, 0.916\n",
      "1.610e+01, 0.916\n",
      "3.562e+01, 0.916\n",
      "7.880e+01, 0.916\n",
      "1.743e+02, 0.916\n",
      "3.857e+02, 0.916\n",
      "8.532e+02, 0.916\n",
      "1.887e+03, 0.916\n",
      "4.175e+03, 0.916\n",
      "9.237e+03, 0.916\n",
      "2.043e+04, 0.916\n",
      "4.520e+04, 0.916\n",
      "1.000e+05, 0.916\n"
     ]
    }
   ],
   "source": [
    "scores_linear = C_testing(X_train, X_test, y_train, y_test, C_values)"
   ]
  },
  {
   "cell_type": "code",
   "execution_count": 134,
   "metadata": {
    "collapsed": false
   },
   "outputs": [],
   "source": [
    "def C_testing_plot(scores, label=None):\n",
    "    sorted_index = np.argsort(scores)\n",
    "\n",
    "    print \"score max : %6.4f -- best C = %5.3e\"%(max(scores), C_values[sorted_index[-1]])\n",
    "\n",
    "    plt.figure(figsize=(13,9))\n",
    "    plt.semilogx(C_values, scores, label=label)\n",
    "    plt.xlabel('C')\n",
    "    plt.ylabel('accuracy score')\n",
    "    \n",
    "    if label != None:\n",
    "        plt.legend(loc='best')"
   ]
  },
  {
   "cell_type": "code",
   "execution_count": 136,
   "metadata": {
    "collapsed": false
   },
   "outputs": [
    {
     "name": "stdout",
     "output_type": "stream",
     "text": [
      "score max : 0.9421 -- best C = 5.298e-04\n"
     ]
    },
    {
     "data": {
      "image/png": "[encoded data removed]",
      "text/plain": [
       "<matplotlib.figure.Figure at 0x7f4cd660b0d0>"
      ]
     },
     "metadata": {},
     "output_type": "display_data"
    }
   ],
   "source": [
    "C_testing_plot(scores_linear)"
   ]
  },
  {
   "cell_type": "markdown",
   "metadata": {},
   "source": [
    "Sur cette figure, on voit l'influence du paramètre C, on observe qu'il existe une valeur optimale de C qui donne le meilleur score pour le modèle. Par ailleurs, cette valeur diffère légèrement d'une exécution à l'autre du programme, à cause de la séparation aléatoire entre données d'entrainement et données de test."
   ]
  },
  {
   "cell_type": "markdown",
   "metadata": {},
   "source": [
    "#### Question 6"
   ]
  },
  {
   "cell_type": "code",
   "execution_count": 22,
   "metadata": {
    "collapsed": true
   },
   "outputs": [],
   "source": [
    "# fonction pour ajouter n=ncols colonnes de bruits dans un array :\n",
    "def add_noise(array, ncols=3):\n",
    "    a = np.random.rand(len(array),ncols)*4. -2.  # valeurs entre -2 and 2\n",
    "    array = np.append(array, a, axis=1)\n",
    "    return array"
   ]
  },
  {
   "cell_type": "code",
   "execution_count": 23,
   "metadata": {
    "collapsed": false
   },
   "outputs": [
    {
     "name": "stdout",
     "output_type": "stream",
     "text": [
      "  0.0, 0.905\n",
      "500.0, 0.884\n",
      "1000.0, 0.900\n",
      "1500.0, 0.895\n",
      "2000.0, 0.905\n",
      "2500.0, 0.895\n",
      "3000.0, 0.884\n",
      "3500.0, 0.889\n",
      "4000.0, 0.879\n",
      "4500.0, 0.874\n",
      "5000.0, 0.874\n",
      "5500.0, 0.868\n",
      "6000.0, 0.868\n",
      "6500.0, 0.858\n",
      "7000.0, 0.858\n",
      "7500.0, 0.858\n",
      "8000.0, 0.853\n",
      "8500.0, 0.847\n",
      "9000.0, 0.842\n",
      "9500.0, 0.853\n",
      "10000.0, 0.847\n",
      "10500.0, 0.853\n",
      "11000.0, 0.853\n",
      "11500.0, 0.842\n",
      "12000.0, 0.842\n",
      "12500.0, 0.832\n",
      "13000.0, 0.842\n",
      "13500.0, 0.837\n",
      "14000.0, 0.842\n",
      "14500.0, 0.842\n"
     ]
    }
   ],
   "source": [
    "# Pour la meilleur valeur de C,\n",
    "# On va tester le score de la SVM en ajoutant des colunnes de bruits.\n",
    "# On garde C=2.4e-4 qui est bonne valeur pour le paramètre de régularisation, d'après les résultats précédents.\n",
    "\n",
    "N_noisy_max = 30 # number of iterations\n",
    "N_noisy_step = 500 # number of random columns added at each step\n",
    "\n",
    "X_train_noisy = X_train\n",
    "X_test_noisy = X_test\n",
    "\n",
    "\n",
    "scores = [] # scores\n",
    "n_cols = [] # number of random columns\n",
    "for i in range(N_noisy_max):\n",
    "    \n",
    "    X_train_noisy = add_noise(X_train_noisy, ncols=N_noisy_step)\n",
    "    X_test_noisy = add_noise(X_test_noisy, ncols=N_noisy_step)\n",
    "    \n",
    "    clf = SVC(kernel='linear', C=2.4e-4)\n",
    "    clf = clf.fit(X_train_noisy, y_train)\n",
    "\n",
    "    y_pred = clf.predict(X_test_noisy)\n",
    "    \n",
    "    scores.append(clf.score(X_test_noisy, y_test))\n",
    "    \n",
    "    if i==0:\n",
    "        n_cols = [0]\n",
    "    else:\n",
    "        n_cols.append(n_cols[-1] + N_noisy_step)\n",
    "    \n",
    "    \n",
    "    print \"%5.1f, %5.3f\"%(n_cols[-1], scores[-1])"
   ]
  },
  {
   "cell_type": "code",
   "execution_count": 24,
   "metadata": {
    "collapsed": false
   },
   "outputs": [
    {
     "name": "stdout",
     "output_type": "stream",
     "text": [
      "(30, 30)\n"
     ]
    },
    {
     "data": {
      "text/plain": [
       "<matplotlib.text.Text at 0x7f4cd9436550>"
      ]
     },
     "execution_count": 24,
     "metadata": {},
     "output_type": "execute_result"
    },
    {
     "data": {
      "image/png": "[encoded data removed]",
      "text/plain": [
       "<matplotlib.figure.Figure at 0x7f4cd944e5d0>"
      ]
     },
     "metadata": {},
     "output_type": "display_data"
    }
   ],
   "source": [
    "print(len(scores), len(n_cols))\n",
    "\n",
    "plt.figure(figsize=(13,9))\n",
    "plt.plot(n_cols, scores)\n",
    "plt.xlabel(\"number of random columns\")\n",
    "plt.ylabel('accuracy score')"
   ]
  },
  {
   "cell_type": "markdown",
   "metadata": {},
   "source": [
    "Il faut ajouter un grand nombre de variables random pour voir une diminution nette de la performance de l'algorithme. Ou bien augmenter l'amplitude de la variable aléatoire (avec des valeurs aléatoires entre -2 et 2, le résultat est plus nette que si les valeurs sont entre -1 et 1, à nombre égal de colonnes ajoutées."
   ]
  },
  {
   "cell_type": "markdown",
   "metadata": {},
   "source": [
    "#### Question 7"
   ]
  },
  {
   "cell_type": "markdown",
   "metadata": {},
   "source": [
    "Comme l'algorithme de SVM repose sur des calculs de distance entre un hyperplan et les points de données, si les variables ne sont pas réduites, on risque de donner trop d'importances aux variables dont les valeurs sont grandes par rapport aux autres. Le fait de centrer les données, permet de réduire la valeur du biais $\\omega_0$. "
   ]
  },
  {
   "cell_type": "markdown",
   "metadata": {},
   "source": [
    "#### Question 8"
   ]
  },
  {
   "cell_type": "code",
   "execution_count": 77,
   "metadata": {
    "collapsed": false
   },
   "outputs": [
    {
     "name": "stdout",
     "output_type": "stream",
     "text": [
      "1.000e-05, 0.674\n",
      "2.212e-05, 0.674\n",
      "4.894e-05, 0.674\n",
      "1.083e-04, 0.674\n",
      "2.395e-04, 0.674\n",
      "5.298e-04, 0.674\n",
      "1.172e-03, 0.674\n",
      "2.593e-03, 0.674\n",
      "5.736e-03, 0.674\n",
      "1.269e-02, 0.674\n",
      "2.807e-02, 0.674\n",
      "6.210e-02, 0.674\n",
      "1.374e-01, 0.674\n",
      "3.039e-01, 0.695\n",
      "6.723e-01, 0.779\n",
      "1.487e+00, 0.837\n",
      "3.290e+00, 0.853\n",
      "7.279e+00, 0.853\n",
      "1.610e+01, 0.853\n",
      "3.562e+01, 0.853\n",
      "7.880e+01, 0.853\n",
      "1.743e+02, 0.853\n",
      "3.857e+02, 0.853\n",
      "8.532e+02, 0.853\n",
      "1.887e+03, 0.853\n",
      "4.175e+03, 0.853\n",
      "9.237e+03, 0.853\n",
      "2.043e+04, 0.853\n",
      "4.520e+04, 0.853\n",
      "1.000e+05, 0.853\n"
     ]
    }
   ],
   "source": [
    "scores_rbf = C_testing(X_train, X_test, y_train, y_test, C_values, kernel='rbf')"
   ]
  },
  {
   "cell_type": "code",
   "execution_count": 78,
   "metadata": {
    "collapsed": false
   },
   "outputs": [
    {
     "name": "stdout",
     "output_type": "stream",
     "text": [
      "score max : 0.8526 -- best C = 1.000e+05\n"
     ]
    },
    {
     "data": {
      "image/png": "[encoded data removed]",
      "text/plain": [
       "<matplotlib.figure.Figure at 0x7f4cd3e11210>"
      ]
     },
     "metadata": {},
     "output_type": "display_data"
    }
   ],
   "source": [
    "C_testing_plot(scores_rbf)"
   ]
  },
  {
   "cell_type": "markdown",
   "metadata": {},
   "source": [
    "Un kernel RBF, donne des résultats moins bons que le kernel linéaire."
   ]
  },
  {
   "cell_type": "markdown",
   "metadata": {},
   "source": [
    "On va tester l'influence d'une PCA sur la performance d'une SVM à noyau RBF.\n",
    "On va d'abord déterminer le nombre de composantes principales à sélectionner par PCA pour conserver 95% de la variance du jeux de données d'entrainement."
   ]
  },
  {
   "cell_type": "code",
   "execution_count": 65,
   "metadata": {
    "collapsed": false
   },
   "outputs": [
    {
     "data": {
      "text/plain": [
       "RandomizedPCA(copy=True, iterated_power=3, n_components=None,\n",
       "       random_state=None, whiten=True)"
      ]
     },
     "execution_count": 65,
     "metadata": {},
     "output_type": "execute_result"
    }
   ],
   "source": [
    "pca_full = RandomizedPCA(whiten=True)\n",
    "pca_full.fit(X_train)"
   ]
  },
  {
   "cell_type": "code",
   "execution_count": 66,
   "metadata": {
    "collapsed": false
   },
   "outputs": [
    {
     "name": "stdout",
     "output_type": "stream",
     "text": [
      "threshold :  0.950016947839 ==> number of components :  99\n"
     ]
    },
    {
     "data": {
      "text/plain": [
       "<matplotlib.lines.Line2D at 0x7f4cd4911310>"
      ]
     },
     "execution_count": 66,
     "metadata": {},
     "output_type": "execute_result"
    },
    {
     "data": {
      "image/png": "[encoded data removed]",
      "text/plain": [
       "<matplotlib.figure.Figure at 0x7f4cd44481d0>"
      ]
     },
     "metadata": {},
     "output_type": "display_data"
    }
   ],
   "source": [
    "# somme cumulative de la variance des composantes principales\n",
    "expvar_cumsum = pca_full.explained_variance_ratio_.cumsum()\n",
    "\n",
    "threshold = expvar_cumsum[expvar_cumsum >= 0.95][0] # first value >= 0.95\n",
    "n_var = np.argwhere(expvar_cumsum == threshold)[0][0]\n",
    "\n",
    "\n",
    "print 'threshold : ', threshold, '==> number of components : ', n_var\n",
    "\n",
    "plt.figure(figsize=(13,9))\n",
    "plt.ylabel('cummulative variance ratio')\n",
    "plt.xlabel('number of components in the PCA')\n",
    "plt.plot(range(len(expvar_cumsum)), expvar_cumsum)\n",
    "plt.axhline(threshold, c='r', ls='--')\n",
    "plt.axvline(n_var, c='r', ls='--')"
   ]
  },
  {
   "cell_type": "markdown",
   "metadata": {},
   "source": [
    "Avec 99 composantes principales, on capture 95% de la variance du jeux de données. On va donc réduire le nombre de features à 64 avec une PCA."
   ]
  },
  {
   "cell_type": "code",
   "execution_count": 67,
   "metadata": {
    "collapsed": false
   },
   "outputs": [
    {
     "name": "stdout",
     "output_type": "stream",
     "text": [
      "(190, 10000) (190, 99)\n"
     ]
    }
   ],
   "source": [
    "# On applique la PCA avec le nombre de composantes spécifiés plus-haut :\n",
    "pca = RandomizedPCA(n_components=n_var, whiten=True)\n",
    "pca.fit(X_train)\n",
    "\n",
    "X_train_pca = pca.transform(X_train)\n",
    "X_test_pca = pca.transform(X_test)\n",
    "\n",
    "print np.shape(X_train), np.shape(X_train_pca)"
   ]
  },
  {
   "cell_type": "code",
   "execution_count": 79,
   "metadata": {
    "collapsed": false
   },
   "outputs": [
    {
     "name": "stdout",
     "output_type": "stream",
     "text": [
      "1.000e-05, 0.674\n",
      "2.212e-05, 0.674\n",
      "4.894e-05, 0.674\n",
      "1.083e-04, 0.674\n",
      "2.395e-04, 0.674\n",
      "5.298e-04, 0.674\n",
      "1.172e-03, 0.674\n",
      "2.593e-03, 0.674\n",
      "5.736e-03, 0.674\n",
      "1.269e-02, 0.674\n",
      "2.807e-02, 0.674\n",
      "6.210e-02, 0.674\n",
      "1.374e-01, 0.674\n",
      "3.039e-01, 0.674\n",
      "6.723e-01, 0.811\n",
      "1.487e+00, 0.905\n",
      "3.290e+00, 0.895\n",
      "7.279e+00, 0.895\n",
      "1.610e+01, 0.895\n",
      "3.562e+01, 0.895\n",
      "7.880e+01, 0.895\n",
      "1.743e+02, 0.895\n",
      "3.857e+02, 0.895\n",
      "8.532e+02, 0.895\n",
      "1.887e+03, 0.895\n",
      "4.175e+03, 0.895\n",
      "9.237e+03, 0.895\n",
      "2.043e+04, 0.895\n",
      "4.520e+04, 0.895\n",
      "1.000e+05, 0.895\n"
     ]
    }
   ],
   "source": [
    "C_values = np.logspace(-5, 5, 30)\n",
    "\n",
    "# On teste l'impacte du paramètre C sur les donées modifiées par PCA :\n",
    "scores_rbf_pca = C_testing(X_train_pca, X_test_pca, y_train, y_test, C_values, kernel='rbf')"
   ]
  },
  {
   "cell_type": "code",
   "execution_count": 80,
   "metadata": {
    "collapsed": false
   },
   "outputs": [
    {
     "name": "stdout",
     "output_type": "stream",
     "text": [
      "score max : 0.9053 -- best C = 1.487e+00\n"
     ]
    },
    {
     "data": {
      "text/plain": [
       "<matplotlib.legend.Legend at 0x7f4cd3d3cbd0>"
      ]
     },
     "execution_count": 80,
     "metadata": {},
     "output_type": "execute_result"
    },
    {
     "data": {
      "image/png": "[encoded data removed]",
      "text/plain": [
       "<matplotlib.figure.Figure at 0x7f4cd423ec50>"
      ]
     },
     "metadata": {},
     "output_type": "display_data"
    }
   ],
   "source": [
    "C_testing_plot(scores_rbf_pca, label='RBF + PCA')\n",
    "plt.plot(C_values, scores_rbf, label='RBF no PCA')\n",
    "plt.legend(loc='best')"
   ]
  },
  {
   "cell_type": "markdown",
   "metadata": {},
   "source": [
    "Avec la PCA sur 64 composantes principales on améliore les résultats de la SVM avec le kernel RBF : on passe d'un score de 85% à 91% environ. Et la valeur critique pour l'hyper-paramètre C reste similaire avec ou sans PCA. "
   ]
  },
  {
   "cell_type": "code",
   "execution_count": 81,
   "metadata": {
    "collapsed": false
   },
   "outputs": [
    {
     "name": "stdout",
     "output_type": "stream",
     "text": [
      "1.000e-05, 0.674\n",
      "2.212e-05, 0.674\n",
      "4.894e-05, 0.674\n",
      "1.083e-04, 0.674\n",
      "2.395e-04, 0.674\n",
      "5.298e-04, 0.674\n",
      "1.172e-03, 0.674\n",
      "2.593e-03, 0.700\n",
      "5.736e-03, 0.905\n",
      "1.269e-02, 0.895\n",
      "2.807e-02, 0.889\n",
      "6.210e-02, 0.874\n",
      "1.374e-01, 0.879\n",
      "3.039e-01, 0.879\n",
      "6.723e-01, 0.879\n",
      "1.487e+00, 0.879\n",
      "3.290e+00, 0.879\n",
      "7.279e+00, 0.879\n",
      "1.610e+01, 0.879\n",
      "3.562e+01, 0.879\n",
      "7.880e+01, 0.879\n",
      "1.743e+02, 0.879\n",
      "3.857e+02, 0.879\n",
      "8.532e+02, 0.879\n",
      "1.887e+03, 0.879\n",
      "4.175e+03, 0.879\n",
      "9.237e+03, 0.879\n",
      "2.043e+04, 0.879\n",
      "4.520e+04, 0.879\n",
      "1.000e+05, 0.879\n"
     ]
    }
   ],
   "source": [
    "# Même test avec un kernel linéaire :\n",
    "scores_pca = C_testing(X_train_pca, X_test_pca, y_train, y_test, C_values, kernel='linear')"
   ]
  },
  {
   "cell_type": "code",
   "execution_count": 84,
   "metadata": {
    "collapsed": false
   },
   "outputs": [
    {
     "name": "stdout",
     "output_type": "stream",
     "text": [
      "score max : 0.9053 -- best C = 5.736e-03\n"
     ]
    },
    {
     "data": {
      "text/plain": [
       "<matplotlib.legend.Legend at 0x7f4cd3b55b50>"
      ]
     },
     "execution_count": 84,
     "metadata": {},
     "output_type": "execute_result"
    },
    {
     "data": {
      "image/png": "[encoded data removed]",
      "text/plain": [
       "<matplotlib.figure.Figure at 0x7f4cd3a4bd90>"
      ]
     },
     "metadata": {},
     "output_type": "display_data"
    }
   ],
   "source": [
    "C_testing_plot(scores_pca, label='Linear + PCA')\n",
    "plt.plot(C_values, scores_linear, label='Linear no PCA')\n",
    "plt.plot(C_values, scores_rbf_pca, label='RBF + PCA')\n",
    "plt.plot(C_values, scores_rbf, label='RBF no PCA')\n",
    "plt.legend(loc='best')"
   ]
  },
  {
   "cell_type": "markdown",
   "metadata": {},
   "source": [
    "En comparant les différents résultats précédents : le meilleur score est obtenu avec le kernel lineaire sans la PCA capturant 95% de la variance des données. "
   ]
  },
  {
   "cell_type": "markdown",
   "metadata": {},
   "source": [
    "#### Question 9"
   ]
  },
  {
   "cell_type": "code",
   "execution_count": 117,
   "metadata": {
    "collapsed": false
   },
   "outputs": [
    {
     "name": "stdout",
     "output_type": "stream",
     "text": [
      "1e-05\n",
      "1.48735210729e-05\n",
      "2.21221629107e-05\n",
      "3.29034456231e-05\n",
      "4.89390091848e-05\n",
      "7.27895384398e-05\n",
      "0.000108263673387\n",
      "0.000161026202756\n",
      "0.000239502661999\n",
      "0.000356224789026\n",
      "0.000529831690628\n",
      "0.000788046281567\n",
      "0.00117210229753\n",
      "0.0017433288222\n",
      "0.0025929437974\n",
      "0.00385662042116\n",
      "0.00573615251045\n",
      "0.00853167852417\n",
      "0.0126896100317\n",
      "0.0188739182214\n",
      "0.0280721620394\n",
      "0.0417531893656\n",
      "0.0621016941892\n",
      "0.0923670857187\n",
      "0.137382379588\n",
      "0.204335971786\n",
      "0.303919538231\n",
      "0.452035365636\n",
      "0.67233575365\n",
      "1.0\n"
     ]
    }
   ],
   "source": [
    "tolerance = np.logspace(-5,0,30)\n",
    "\n",
    "ws = []\n",
    "duals = []\n",
    "intercept = []\n",
    "for tol in tolerance:\n",
    "    print tol\n",
    "    clf = SVC(kernel='linear', C=2.4e-4, tol=tol)\n",
    "    clf.fit(X_train, y_train)\n",
    "\n",
    "    ws.append(clf.coef_)\n",
    "    duals.append(clf.dual_coef_)\n",
    "    intercept.append(clf.intercept_)\n",
    "    \n",
    "ws = np.asarray(ws)"
   ]
  },
  {
   "cell_type": "code",
   "execution_count": 137,
   "metadata": {
    "collapsed": false
   },
   "outputs": [],
   "source": [
    "primal = np.zeros(len(tolerance))\n",
    "dual = np.zeros(len(tolerance))\n",
    "saut = np.zeros(len(tolerance))\n",
    "\n",
    "for i in range(len(tolerance)):\n",
    "    \n",
    "    primal[i] = 0.5*norm(ws[i,:])**2 + 2.4e-4*max(0, sum(1 - y_train[i]*(np.dot(ws[i,:], X_train[i,:]) + intercept[i])))\n",
    "    dual[i] = sum(duals[i][0]) "
   ]
  },
  {
   "cell_type": "code",
   "execution_count": 138,
   "metadata": {
    "collapsed": false
   },
   "outputs": [
    {
     "data": {
      "text/plain": [
       "[<matplotlib.lines.Line2D at 0x7f4cd5ebb090>]"
      ]
     },
     "execution_count": 138,
     "metadata": {},
     "output_type": "execute_result"
    },
    {
     "data": {
      "image/png": "[encoded data removed]",
      "text/plain": [
       "<matplotlib.figure.Figure at 0x7f4cd5f0d310>"
      ]
     },
     "metadata": {},
     "output_type": "display_data"
    }
   ],
   "source": [
    "plt.semilogx(tolerance, primal)"
   ]
  }
 ],
 "metadata": {
  "kernelspec": {
   "display_name": "Python 2",
   "language": "python",
   "name": "python2"
  },
  "language_info": {
   "codemirror_mode": {
    "name": "ipython",
    "version": 2
   },
   "file_extension": ".py",
   "mimetype": "text/x-python",
   "name": "python",
   "nbconvert_exporter": "python",
   "pygments_lexer": "ipython2",
   "version": "2.7.11"
  }
 },
 "nbformat": 4,
 "nbformat_minor": 0
}
